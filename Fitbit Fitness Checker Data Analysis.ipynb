{
 "cells": [
  {
   "cell_type": "markdown",
   "id": "de6539ef",
   "metadata": {},
   "source": [
    "# Fitbit Fitness Checker Data Analysis"
   ]
  },
  {
   "cell_type": "markdown",
   "id": "3449fff8",
   "metadata": {},
   "source": [
    "## Case Study : How can a Wellness Technology Company Play It Smart?"
   ]
  },
  {
   "cell_type": "markdown",
   "id": "260df72e",
   "metadata": {},
   "source": [
    "*This is the case study project for the Google Data Analytics Professional Certificate."
   ]
  },
  {
   "cell_type": "markdown",
   "id": "6a7d9725",
   "metadata": {},
   "source": [
    "### Scenario and the task"
   ]
  },
  {
   "cell_type": "markdown",
   "id": "0ee7a30a",
   "metadata": {},
   "source": [
    "We are under a scenario to be working on the marketing analyst team as a junior data analyst at Bellabeat. Bellabeat is a high tech manufacturer of health-focused products for wormen. Our cofounder and Chief Creative Officer, Urška Sršen, believes that analyzing smart device fitness data could help unlock new growth opportunities for the company. The task is to analyze smart device usuage data of non-Bellabeat products to help guide the executive team marketing strategy for the company."
   ]
  },
  {
   "cell_type": "markdown",
   "id": "f329a6d9",
   "metadata": {},
   "source": [
    "### About Bellabeat:"
   ]
  },
  {
   "cell_type": "markdown",
   "id": "430dc803",
   "metadata": {},
   "source": [
    "Urška Sršen and Sando Mur founded Bellabeat, a high-tech company that manufactures health-focused smart products. Sršen used her background as an artist to develop beautifully designed technology that informs and inspires women around the world. Collecting data on activity, sleep, stress, and reproductive health has allowed Bellabeat to empower women with knowledge about their own health and habits. Since it was founded in 2013, Bellabeat has grown rapidly and quickly positioned itself as a tech-driven wellness company for women.\n",
    "By 2016, Bellabeat had opened offices around the world and launched multiple products. Bellabeat products became available through a growing number of online retailers in addition to their own e-commerce channel on their website. The company has invested in traditional advertising media, such as radio, out-of-home billboards, print, and television, but focuses on digital marketing extensively. Bellabeat invests year-round in Google Search, maintaining active Facebook and Instagram pages, and consistently engages consumers on Twitter. Additionally, Bellabeat runs video ads on Youtube and display ads on the Google Display Network to support campaigns around key marketing dates.\n",
    "Sršen knows that an analysis of Bellabeat’s available consumer data would reveal more opportunities for growth. She has asked the marketing analytics team to focus on a Bellabeat product and analyze smart device usage data in order to gain insight into how people are already using their smart devices. Then, using this information, she would like high-level recommendations for how these trends can inform Bellabeat marketing strategy."
   ]
  },
  {
   "cell_type": "markdown",
   "id": "89797125",
   "metadata": {},
   "source": [
    "### Bellabeat's Products"
   ]
  },
  {
   "cell_type": "markdown",
   "id": "55b306b7",
   "metadata": {},
   "source": [
    "* **Bellabeat app**: The Bellabeat app provides users with health data related to their activity, sleep, stress,\n",
    "menstrual cycle, and mindfulness habits. This data can help users better understand their current habits and\n",
    "make healthy decisions. The Bellabeat app connects to their line of smart wellness products.\n",
    "○ Leaf: Bellabeat’s classic wellness tracker can be worn as a bracelet, necklace, or clip. The Leaf tracker connects\n",
    "to the Bellabeat app to track activity, sleep, and stress.\n",
    "* **Time**: This wellness watch combines the timeless look of a classic timepiece with smart technology to track user\n",
    "activity, sleep, and stress. The Time watch connects to the Bellabeat app to provide you with insights into your\n",
    "daily wellness.\n",
    "* **Spring**: This is a water bottle that tracks daily water intake using smart technology to ensure that you are\n",
    "appropriately hydrated throughout the day. The Spring bottle connects to the Bellabeat app to track your hydration levels.\n",
    "* **Bellabeat** membership: Bellabeat also offers a subscription-based membership program for users. Membership gives users 24/7 access to fully personalized guidance on nutrition, activity, sleep, health and beauty, and mindfulness based on their lifestyle and goals."
   ]
  },
  {
   "cell_type": "markdown",
   "id": "00734003",
   "metadata": {},
   "source": [
    "# Ask"
   ]
  },
  {
   "cell_type": "markdown",
   "id": "b108d470",
   "metadata": {},
   "source": [
    "## Business Task"
   ]
  },
  {
   "cell_type": "markdown",
   "id": "57653fa1",
   "metadata": {},
   "source": [
    "We are instructed to analyse smart device usuage data in order to gain insight into how cnsumers use smart devices other than company's product. After the data analysis process, our stakeholders would like us to give high-level recommendation into company's marketing strategy."
   ]
  },
  {
   "cell_type": "markdown",
   "id": "fe452f04",
   "metadata": {},
   "source": [
    "## Stakeholders"
   ]
  },
  {
   "cell_type": "markdown",
   "id": "7dca60cd",
   "metadata": {},
   "source": [
    "* **Urška Sršen**: Bellabeat’s cofounder and Chief Creative Officer\n",
    "* **Sando Mur**: Mathematician and Bellabeat’s cofounder; key member of the Bellabeat executive team\n",
    "* **Bellabeat marketing analytics team**: A team of data analysts responsible for collecting, analyzing, and\n",
    "reporting data that helps guide Bellabeat’s marketing strategy."
   ]
  },
  {
   "cell_type": "markdown",
   "id": "41619210",
   "metadata": {},
   "source": [
    "# Prepare:"
   ]
  },
  {
   "cell_type": "markdown",
   "id": "6bbe5511",
   "metadata": {},
   "source": [
    "Our stakeholder, Urška Sršen, encourages us to use public data that explores smart device users’ daily habits. We will use a specific data set: __[FitBit Fitness Tracker Data](https://www.kaggle.com/datasets/arashnic/fitbit)__(CC0: Public Domain, dataset made available through __[Mobius](https://www.kaggle.com/arashnic)__): This Kaggle data set\n",
    "contains personal fitness tracker from thirty fitbit users. Thirty eligible Fitbit users consented to the submission of personal tracker data, including minute-level output for physical activity, heart rate, and sleep monitoring. It includes information about daily activity, steps, and heart rate that can be used to explore users’ habits."
   ]
  },
  {
   "cell_type": "markdown",
   "id": "1c6c38ab",
   "metadata": {},
   "source": [
    "We then start our process to prepare for the analysis process. Here is all the library we will use in this project."
   ]
  },
  {
   "cell_type": "code",
   "execution_count": 1,
   "id": "5a935ac3",
   "metadata": {},
   "outputs": [],
   "source": [
    "import sqlite3 as sql\n",
    "import pandas as pd\n",
    "import numpy as np\n",
    "from numpy import arange\n",
    "import matplotlib.pyplot as plt\n",
    "import matplotlib.cm as cm\n",
    "from matplotlib import ticker\n",
    "from scipy.optimize import curve_fit\n",
    "import re\n",
    "import os\n",
    "import datetime"
   ]
  },
  {
   "cell_type": "markdown",
   "id": "798b8ec0",
   "metadata": {},
   "source": [
    "All the data is stored into a `Fitabase Data 4.12.16-5.12.16` folder and there are totally 18 *csv* files inside. We create two lists for it. First of it `fitbit_data_list` is used to store all the absoulte path for the *csv* file and the other one `fitbit_tablename_list` is used to store for the table name same as file name but without extension."
   ]
  },
  {
   "cell_type": "code",
   "execution_count": 2,
   "id": "d8752ca2",
   "metadata": {},
   "outputs": [],
   "source": [
    "path = '/Users/michaelfong/Desktop/Case Study 2/Fitabase Data 4.12.16-5.12.16'\n",
    "# Get the list of all data file (with extension) and table name (without extension) inside the Fitbit data folder\n",
    "fitbit_data_list=[]\n",
    "fitbit_tablename_list=[]\n",
    "for infile in os.listdir(path):\n",
    "    fitbit_data_list.append(os.path.abspath(path)+\"/\"+infile)\n",
    "    fitbit_tablename_list.append(os.path.splitext(infile)[0])"
   ]
  },
  {
   "cell_type": "markdown",
   "id": "491bab8a",
   "metadata": {},
   "source": [
    "Now, we list out all file paths to ensure the integrity of our path list and the table name list:"
   ]
  },
  {
   "cell_type": "code",
   "execution_count": 3,
   "id": "a7ded111",
   "metadata": {
    "scrolled": false
   },
   "outputs": [
    {
     "data": {
      "text/plain": [
       "['/Users/michaelfong/Desktop/Case Study 2/Fitabase Data 4.12.16-5.12.16/minuteIntensitiesWide_merged.csv',\n",
       " '/Users/michaelfong/Desktop/Case Study 2/Fitabase Data 4.12.16-5.12.16/dailyActivity_merged.csv',\n",
       " '/Users/michaelfong/Desktop/Case Study 2/Fitabase Data 4.12.16-5.12.16/sleepDay_merged.csv',\n",
       " '/Users/michaelfong/Desktop/Case Study 2/Fitabase Data 4.12.16-5.12.16/heartrate_seconds_merged.csv',\n",
       " '/Users/michaelfong/Desktop/Case Study 2/Fitabase Data 4.12.16-5.12.16/minuteIntensitiesNarrow_merged.csv',\n",
       " '/Users/michaelfong/Desktop/Case Study 2/Fitabase Data 4.12.16-5.12.16/minuteMETsNarrow_merged.csv',\n",
       " '/Users/michaelfong/Desktop/Case Study 2/Fitabase Data 4.12.16-5.12.16/hourlySteps_merged.csv',\n",
       " '/Users/michaelfong/Desktop/Case Study 2/Fitabase Data 4.12.16-5.12.16/hourlyIntensities_merged.csv',\n",
       " '/Users/michaelfong/Desktop/Case Study 2/Fitabase Data 4.12.16-5.12.16/dailyCalories_merged.csv',\n",
       " '/Users/michaelfong/Desktop/Case Study 2/Fitabase Data 4.12.16-5.12.16/hourlyCalories_merged.csv',\n",
       " '/Users/michaelfong/Desktop/Case Study 2/Fitabase Data 4.12.16-5.12.16/minuteSleep_merged.csv',\n",
       " '/Users/michaelfong/Desktop/Case Study 2/Fitabase Data 4.12.16-5.12.16/minuteCaloriesNarrow_merged.csv',\n",
       " '/Users/michaelfong/Desktop/Case Study 2/Fitabase Data 4.12.16-5.12.16/dailySteps_merged.csv',\n",
       " '/Users/michaelfong/Desktop/Case Study 2/Fitabase Data 4.12.16-5.12.16/minuteCaloriesWide_merged.csv',\n",
       " '/Users/michaelfong/Desktop/Case Study 2/Fitabase Data 4.12.16-5.12.16/minuteStepsNarrow_merged.csv',\n",
       " '/Users/michaelfong/Desktop/Case Study 2/Fitabase Data 4.12.16-5.12.16/minuteStepsWide_merged.csv',\n",
       " '/Users/michaelfong/Desktop/Case Study 2/Fitabase Data 4.12.16-5.12.16/weightLogInfo_merged.csv',\n",
       " '/Users/michaelfong/Desktop/Case Study 2/Fitabase Data 4.12.16-5.12.16/dailyIntensities_merged.csv']"
      ]
     },
     "execution_count": 3,
     "metadata": {},
     "output_type": "execute_result"
    }
   ],
   "source": [
    "fitbit_data_list"
   ]
  },
  {
   "cell_type": "code",
   "execution_count": 4,
   "id": "0ebcf547",
   "metadata": {},
   "outputs": [
    {
     "name": "stdout",
     "output_type": "stream",
     "text": [
      "['minuteIntensitiesWide_merged', 'dailyActivity_merged', 'sleepDay_merged', 'heartrate_seconds_merged', 'minuteIntensitiesNarrow_merged', 'minuteMETsNarrow_merged', 'hourlySteps_merged', 'hourlyIntensities_merged', 'dailyCalories_merged', 'hourlyCalories_merged', 'minuteSleep_merged', 'minuteCaloriesNarrow_merged', 'dailySteps_merged', 'minuteCaloriesWide_merged', 'minuteStepsNarrow_merged', 'minuteStepsWide_merged', 'weightLogInfo_merged', 'dailyIntensities_merged']\n",
      "There are total 18 files inserted.\n"
     ]
    }
   ],
   "source": [
    "print(fitbit_tablename_list)\n",
    "print(f\"There are total {len(fitbit_tablename_list)} files inserted.\")"
   ]
  },
  {
   "cell_type": "markdown",
   "id": "9be88d4e",
   "metadata": {},
   "source": [
    "We can see that all 18 files inside the folder had been created and added to the two lists. Then, we can start to process the data by creating a database."
   ]
  },
  {
   "cell_type": "markdown",
   "id": "6732c2f4",
   "metadata": {},
   "source": [
    "## Process"
   ]
  },
  {
   "cell_type": "markdown",
   "id": "b66142ab",
   "metadata": {},
   "source": [
    "We use the `sqlite3` module as an interface for SQLite in Python to create a database in order to clean and transform the data. Then we can easily use SQL queries to work through the data and analysis."
   ]
  },
  {
   "cell_type": "markdown",
   "id": "b2bce7e3",
   "metadata": {},
   "source": [
    "### Creat a database"
   ]
  },
  {
   "cell_type": "markdown",
   "id": "30c4e604",
   "metadata": {},
   "source": [
    "First, we will create a database with a connection and starting a cursor in the desired database. Then, we insert all 18 *csv* files from the list above into the database with the filename of the *csv* file(without extension) by the pandas library as follow:"
   ]
  },
  {
   "cell_type": "code",
   "execution_count": 5,
   "id": "ecf67754",
   "metadata": {},
   "outputs": [],
   "source": [
    "def create_sqlite_connection(path):\n",
    "    connection = None\n",
    "    try:\n",
    "        connection = sql.connect(path)\n",
    "        print(\"Successfully connect to SQLite Database.\")\n",
    "    except Error as e:\n",
    "        print(f\"The error '{e}' occurred\")\n",
    "    return connection"
   ]
  },
  {
   "cell_type": "code",
   "execution_count": 6,
   "id": "523ba8dc",
   "metadata": {},
   "outputs": [
    {
     "name": "stdout",
     "output_type": "stream",
     "text": [
      "Successfully connect to SQLite Database.\n"
     ]
    }
   ],
   "source": [
    "con = create_sqlite_connection(\"fitbitdata.db\")\n",
    "cur = con.cursor()"
   ]
  },
  {
   "cell_type": "code",
   "execution_count": 7,
   "id": "a414ba1c",
   "metadata": {},
   "outputs": [],
   "source": [
    "# use pd.read_csv to read the file from the path and use to_sql to insert the table in the database\n",
    "for i in range(len(fitbit_data_list)):\n",
    "    df = pd.read_csv(fitbit_data_list[i])\n",
    "    df.to_sql(fitbit_tablename_list[i], con, if_exists='append', index=False)"
   ]
  },
  {
   "cell_type": "markdown",
   "id": "64a6db09",
   "metadata": {},
   "source": [
    "We can now run a SQL query to list all the tables in our database to ensure that all tables are inserted as follow:"
   ]
  },
  {
   "cell_type": "code",
   "execution_count": 8,
   "id": "12261e52",
   "metadata": {},
   "outputs": [],
   "source": [
    "query='''\n",
    "    SELECT \n",
    "        name \n",
    "    FROM \n",
    "        sqlite_master \n",
    "    WHERE \n",
    "        type='table';\n",
    "'''\n",
    "cur.execute(query)\n",
    "tables = cur.fetchall()"
   ]
  },
  {
   "cell_type": "code",
   "execution_count": 9,
   "id": "8b08405b",
   "metadata": {
    "scrolled": false
   },
   "outputs": [
    {
     "data": {
      "text/plain": [
       "[('minuteIntensitiesWide_merged',),\n",
       " ('dailyActivity_merged',),\n",
       " ('sleepDay_merged',),\n",
       " ('heartrate_seconds_merged',),\n",
       " ('minuteIntensitiesNarrow_merged',),\n",
       " ('minuteMETsNarrow_merged',),\n",
       " ('hourlySteps_merged',),\n",
       " ('hourlyIntensities_merged',),\n",
       " ('dailyCalories_merged',),\n",
       " ('hourlyCalories_merged',),\n",
       " ('minuteSleep_merged',),\n",
       " ('minuteCaloriesNarrow_merged',),\n",
       " ('dailySteps_merged',),\n",
       " ('minuteCaloriesWide_merged',),\n",
       " ('minuteStepsNarrow_merged',),\n",
       " ('minuteStepsWide_merged',),\n",
       " ('weightLogInfo_merged',),\n",
       " ('dailyIntensities_merged',)]"
      ]
     },
     "execution_count": 9,
     "metadata": {},
     "output_type": "execute_result"
    }
   ],
   "source": [
    "tables"
   ]
  },
  {
   "cell_type": "markdown",
   "id": "c9eed6bd",
   "metadata": {},
   "source": [
    "### Check for information and redundancy"
   ]
  },
  {
   "cell_type": "markdown",
   "id": "1b22f081",
   "metadata": {},
   "source": [
    "Now we have a list of all tables. Then we check that which tables with **daily** as we need to perform the analysis based on those tables."
   ]
  },
  {
   "cell_type": "code",
   "execution_count": 10,
   "id": "4a5ed77f",
   "metadata": {},
   "outputs": [
    {
     "name": "stdout",
     "output_type": "stream",
     "text": [
      "dailyActivity_merged\n",
      "dailyCalories_merged\n",
      "dailySteps_merged\n",
      "dailyIntensities_merged\n"
     ]
    }
   ],
   "source": [
    "for table in fitbit_tablename_list:\n",
    "    if re.search('daily', table):\n",
    "        print(table)"
   ]
  },
  {
   "cell_type": "markdown",
   "id": "0e9e07be",
   "metadata": {},
   "source": [
    "Let's take a closer look for these four **daily** tables."
   ]
  },
  {
   "cell_type": "code",
   "execution_count": 11,
   "id": "d10cea37",
   "metadata": {},
   "outputs": [],
   "source": [
    "query='''\n",
    "    SELECT *\n",
    "    FROM dailyActivity_merged\n",
    "'''\n",
    "\n",
    "dailyactivity_df = pd.read_sql(query, con)"
   ]
  },
  {
   "cell_type": "code",
   "execution_count": 12,
   "id": "1b6067d0",
   "metadata": {},
   "outputs": [
    {
     "name": "stdout",
     "output_type": "stream",
     "text": [
      "<class 'pandas.core.frame.DataFrame'>\n",
      "RangeIndex: 940 entries, 0 to 939\n",
      "Data columns (total 15 columns):\n",
      " #   Column                    Non-Null Count  Dtype  \n",
      "---  ------                    --------------  -----  \n",
      " 0   Id                        940 non-null    int64  \n",
      " 1   ActivityDate              940 non-null    object \n",
      " 2   TotalSteps                940 non-null    int64  \n",
      " 3   TotalDistance             940 non-null    float64\n",
      " 4   TrackerDistance           940 non-null    float64\n",
      " 5   LoggedActivitiesDistance  940 non-null    float64\n",
      " 6   VeryActiveDistance        940 non-null    float64\n",
      " 7   ModeratelyActiveDistance  940 non-null    float64\n",
      " 8   LightActiveDistance       940 non-null    float64\n",
      " 9   SedentaryActiveDistance   940 non-null    float64\n",
      " 10  VeryActiveMinutes         940 non-null    int64  \n",
      " 11  FairlyActiveMinutes       940 non-null    int64  \n",
      " 12  LightlyActiveMinutes      940 non-null    int64  \n",
      " 13  SedentaryMinutes          940 non-null    int64  \n",
      " 14  Calories                  940 non-null    int64  \n",
      "dtypes: float64(7), int64(7), object(1)\n",
      "memory usage: 110.3+ KB\n"
     ]
    }
   ],
   "source": [
    "dailyactivity_df.info()"
   ]
  },
  {
   "cell_type": "code",
   "execution_count": 13,
   "id": "1206625c",
   "metadata": {},
   "outputs": [
    {
     "data": {
      "text/html": [
       "<div>\n",
       "<style scoped>\n",
       "    .dataframe tbody tr th:only-of-type {\n",
       "        vertical-align: middle;\n",
       "    }\n",
       "\n",
       "    .dataframe tbody tr th {\n",
       "        vertical-align: top;\n",
       "    }\n",
       "\n",
       "    .dataframe thead th {\n",
       "        text-align: right;\n",
       "    }\n",
       "</style>\n",
       "<table border=\"1\" class=\"dataframe\">\n",
       "  <thead>\n",
       "    <tr style=\"text-align: right;\">\n",
       "      <th></th>\n",
       "      <th>Id</th>\n",
       "      <th>ActivityDate</th>\n",
       "      <th>TotalSteps</th>\n",
       "      <th>TotalDistance</th>\n",
       "      <th>TrackerDistance</th>\n",
       "      <th>LoggedActivitiesDistance</th>\n",
       "      <th>VeryActiveDistance</th>\n",
       "      <th>ModeratelyActiveDistance</th>\n",
       "      <th>LightActiveDistance</th>\n",
       "      <th>SedentaryActiveDistance</th>\n",
       "      <th>VeryActiveMinutes</th>\n",
       "      <th>FairlyActiveMinutes</th>\n",
       "      <th>LightlyActiveMinutes</th>\n",
       "      <th>SedentaryMinutes</th>\n",
       "      <th>Calories</th>\n",
       "    </tr>\n",
       "  </thead>\n",
       "  <tbody>\n",
       "    <tr>\n",
       "      <th>0</th>\n",
       "      <td>1503960366</td>\n",
       "      <td>4/12/2016</td>\n",
       "      <td>13162</td>\n",
       "      <td>8.50</td>\n",
       "      <td>8.50</td>\n",
       "      <td>0.0</td>\n",
       "      <td>1.88</td>\n",
       "      <td>0.55</td>\n",
       "      <td>6.06</td>\n",
       "      <td>0.0</td>\n",
       "      <td>25</td>\n",
       "      <td>13</td>\n",
       "      <td>328</td>\n",
       "      <td>728</td>\n",
       "      <td>1985</td>\n",
       "    </tr>\n",
       "    <tr>\n",
       "      <th>1</th>\n",
       "      <td>1503960366</td>\n",
       "      <td>4/13/2016</td>\n",
       "      <td>10735</td>\n",
       "      <td>6.97</td>\n",
       "      <td>6.97</td>\n",
       "      <td>0.0</td>\n",
       "      <td>1.57</td>\n",
       "      <td>0.69</td>\n",
       "      <td>4.71</td>\n",
       "      <td>0.0</td>\n",
       "      <td>21</td>\n",
       "      <td>19</td>\n",
       "      <td>217</td>\n",
       "      <td>776</td>\n",
       "      <td>1797</td>\n",
       "    </tr>\n",
       "    <tr>\n",
       "      <th>2</th>\n",
       "      <td>1503960366</td>\n",
       "      <td>4/14/2016</td>\n",
       "      <td>10460</td>\n",
       "      <td>6.74</td>\n",
       "      <td>6.74</td>\n",
       "      <td>0.0</td>\n",
       "      <td>2.44</td>\n",
       "      <td>0.40</td>\n",
       "      <td>3.91</td>\n",
       "      <td>0.0</td>\n",
       "      <td>30</td>\n",
       "      <td>11</td>\n",
       "      <td>181</td>\n",
       "      <td>1218</td>\n",
       "      <td>1776</td>\n",
       "    </tr>\n",
       "    <tr>\n",
       "      <th>3</th>\n",
       "      <td>1503960366</td>\n",
       "      <td>4/15/2016</td>\n",
       "      <td>9762</td>\n",
       "      <td>6.28</td>\n",
       "      <td>6.28</td>\n",
       "      <td>0.0</td>\n",
       "      <td>2.14</td>\n",
       "      <td>1.26</td>\n",
       "      <td>2.83</td>\n",
       "      <td>0.0</td>\n",
       "      <td>29</td>\n",
       "      <td>34</td>\n",
       "      <td>209</td>\n",
       "      <td>726</td>\n",
       "      <td>1745</td>\n",
       "    </tr>\n",
       "    <tr>\n",
       "      <th>4</th>\n",
       "      <td>1503960366</td>\n",
       "      <td>4/16/2016</td>\n",
       "      <td>12669</td>\n",
       "      <td>8.16</td>\n",
       "      <td>8.16</td>\n",
       "      <td>0.0</td>\n",
       "      <td>2.71</td>\n",
       "      <td>0.41</td>\n",
       "      <td>5.04</td>\n",
       "      <td>0.0</td>\n",
       "      <td>36</td>\n",
       "      <td>10</td>\n",
       "      <td>221</td>\n",
       "      <td>773</td>\n",
       "      <td>1863</td>\n",
       "    </tr>\n",
       "  </tbody>\n",
       "</table>\n",
       "</div>"
      ],
      "text/plain": [
       "           Id ActivityDate  TotalSteps  TotalDistance  TrackerDistance  \\\n",
       "0  1503960366    4/12/2016       13162           8.50             8.50   \n",
       "1  1503960366    4/13/2016       10735           6.97             6.97   \n",
       "2  1503960366    4/14/2016       10460           6.74             6.74   \n",
       "3  1503960366    4/15/2016        9762           6.28             6.28   \n",
       "4  1503960366    4/16/2016       12669           8.16             8.16   \n",
       "\n",
       "   LoggedActivitiesDistance  VeryActiveDistance  ModeratelyActiveDistance  \\\n",
       "0                       0.0                1.88                      0.55   \n",
       "1                       0.0                1.57                      0.69   \n",
       "2                       0.0                2.44                      0.40   \n",
       "3                       0.0                2.14                      1.26   \n",
       "4                       0.0                2.71                      0.41   \n",
       "\n",
       "   LightActiveDistance  SedentaryActiveDistance  VeryActiveMinutes  \\\n",
       "0                 6.06                      0.0                 25   \n",
       "1                 4.71                      0.0                 21   \n",
       "2                 3.91                      0.0                 30   \n",
       "3                 2.83                      0.0                 29   \n",
       "4                 5.04                      0.0                 36   \n",
       "\n",
       "   FairlyActiveMinutes  LightlyActiveMinutes  SedentaryMinutes  Calories  \n",
       "0                   13                   328               728      1985  \n",
       "1                   19                   217               776      1797  \n",
       "2                   11                   181              1218      1776  \n",
       "3                   34                   209               726      1745  \n",
       "4                   10                   221               773      1863  "
      ]
     },
     "execution_count": 13,
     "metadata": {},
     "output_type": "execute_result"
    }
   ],
   "source": [
    "dailyactivity_df.head()"
   ]
  },
  {
   "cell_type": "code",
   "execution_count": 14,
   "id": "45038e6f",
   "metadata": {
    "scrolled": false
   },
   "outputs": [
    {
     "name": "stdout",
     "output_type": "stream",
     "text": [
      "<class 'pandas.core.frame.DataFrame'>\n",
      "RangeIndex: 940 entries, 0 to 939\n",
      "Data columns (total 10 columns):\n",
      " #   Column                    Non-Null Count  Dtype  \n",
      "---  ------                    --------------  -----  \n",
      " 0   Id                        940 non-null    int64  \n",
      " 1   ActivityDay               940 non-null    object \n",
      " 2   SedentaryMinutes          940 non-null    int64  \n",
      " 3   LightlyActiveMinutes      940 non-null    int64  \n",
      " 4   FairlyActiveMinutes       940 non-null    int64  \n",
      " 5   VeryActiveMinutes         940 non-null    int64  \n",
      " 6   SedentaryActiveDistance   940 non-null    float64\n",
      " 7   LightActiveDistance       940 non-null    float64\n",
      " 8   ModeratelyActiveDistance  940 non-null    float64\n",
      " 9   VeryActiveDistance        940 non-null    float64\n",
      "dtypes: float64(4), int64(5), object(1)\n",
      "memory usage: 73.6+ KB\n"
     ]
    }
   ],
   "source": [
    "query='''\n",
    "    SELECT \n",
    "        *\n",
    "    FROM \n",
    "        dailyIntensities_merged\n",
    "'''\n",
    "\n",
    "dailyintensities_df = pd.read_sql(query, con)\n",
    "dailyintensities_df.info()"
   ]
  },
  {
   "cell_type": "code",
   "execution_count": 15,
   "id": "30985e03",
   "metadata": {},
   "outputs": [
    {
     "name": "stdout",
     "output_type": "stream",
     "text": [
      "<class 'pandas.core.frame.DataFrame'>\n",
      "RangeIndex: 940 entries, 0 to 939\n",
      "Data columns (total 3 columns):\n",
      " #   Column       Non-Null Count  Dtype \n",
      "---  ------       --------------  ----- \n",
      " 0   Id           940 non-null    int64 \n",
      " 1   ActivityDay  940 non-null    object\n",
      " 2   Calories     940 non-null    int64 \n",
      "dtypes: int64(2), object(1)\n",
      "memory usage: 22.2+ KB\n"
     ]
    }
   ],
   "source": [
    "query='''\n",
    "    SELECT \n",
    "        *\n",
    "    FROM \n",
    "        dailyCalories_merged\n",
    "'''\n",
    "\n",
    "dailycalories_df = pd.read_sql(query, con)\n",
    "dailycalories_df.info()"
   ]
  },
  {
   "cell_type": "code",
   "execution_count": 16,
   "id": "6eb5faf3",
   "metadata": {},
   "outputs": [
    {
     "name": "stdout",
     "output_type": "stream",
     "text": [
      "<class 'pandas.core.frame.DataFrame'>\n",
      "RangeIndex: 940 entries, 0 to 939\n",
      "Data columns (total 3 columns):\n",
      " #   Column       Non-Null Count  Dtype \n",
      "---  ------       --------------  ----- \n",
      " 0   Id           940 non-null    int64 \n",
      " 1   ActivityDay  940 non-null    object\n",
      " 2   StepTotal    940 non-null    int64 \n",
      "dtypes: int64(2), object(1)\n",
      "memory usage: 22.2+ KB\n"
     ]
    }
   ],
   "source": [
    "query='''\n",
    "    SELECT \n",
    "        *\n",
    "    FROM \n",
    "        dailySteps_merged\n",
    "'''\n",
    "\n",
    "dailysteps_df = pd.read_sql(query, con)\n",
    "dailysteps_df.info()"
   ]
  },
  {
   "cell_type": "markdown",
   "id": "88b58670",
   "metadata": {},
   "source": [
    "From the above summary, we find out that all four tables with 940 rows and have the same `Id` Column. Let's check the redundancy of all tables by execute `EXCEPT` statement for common columns. However, there is a different in some names of columns like `ActivityDate` in `dailyActivity_merged` tables is different from the `ActivityDay` for the other three tables. Therefore, we change the table column name for that specifc column first."
   ]
  },
  {
   "cell_type": "code",
   "execution_count": 17,
   "id": "bb2ad755",
   "metadata": {},
   "outputs": [
    {
     "name": "stdout",
     "output_type": "stream",
     "text": [
      "Change success!\n"
     ]
    }
   ],
   "source": [
    "query = '''\n",
    "    ALTER TABLE dailyActivity_merged\n",
    "    RENAME COLUMN ActivityDate to ActivityDay;\n",
    "'''\n",
    "cur.execute(query)\n",
    "result = cur.fetchall()\n",
    "if result is not tuple:\n",
    "    print (\"Change success!\")\n",
    "else:\n",
    "    print (result) "
   ]
  },
  {
   "cell_type": "code",
   "execution_count": 18,
   "id": "fa043f89",
   "metadata": {},
   "outputs": [
    {
     "data": {
      "text/plain": [
       "array(['Id', 'ActivityDay', 'TotalSteps', 'TotalDistance',\n",
       "       'TrackerDistance', 'LoggedActivitiesDistance',\n",
       "       'VeryActiveDistance', 'ModeratelyActiveDistance',\n",
       "       'LightActiveDistance', 'SedentaryActiveDistance',\n",
       "       'VeryActiveMinutes', 'FairlyActiveMinutes', 'LightlyActiveMinutes',\n",
       "       'SedentaryMinutes', 'Calories'], dtype=object)"
      ]
     },
     "execution_count": 18,
     "metadata": {},
     "output_type": "execute_result"
    }
   ],
   "source": [
    "query='''\n",
    "    SELECT \n",
    "        *\n",
    "    FROM \n",
    "        dailyActivity_merged\n",
    "'''\n",
    "\n",
    "dailyactivity_df = pd.read_sql(query, con)\n",
    "dailyactivity_df.columns.values"
   ]
  },
  {
   "cell_type": "code",
   "execution_count": 19,
   "id": "d62f318f",
   "metadata": {},
   "outputs": [
    {
     "name": "stdout",
     "output_type": "stream",
     "text": [
      "Change success!\n"
     ]
    }
   ],
   "source": [
    "query = '''\n",
    "    ALTER TABLE dailySteps_merged\n",
    "    RENAME COLUMN StepTotal to TotalSteps;\n",
    "'''\n",
    "cur.execute(query)\n",
    "result = cur.fetchall()\n",
    "if result is not tuple:\n",
    "    print (\"Change success!\")\n",
    "else:\n",
    "    print (result) "
   ]
  },
  {
   "cell_type": "code",
   "execution_count": 20,
   "id": "f49517f6",
   "metadata": {},
   "outputs": [
    {
     "data": {
      "text/plain": [
       "array(['Id', 'ActivityDay', 'TotalSteps'], dtype=object)"
      ]
     },
     "execution_count": 20,
     "metadata": {},
     "output_type": "execute_result"
    }
   ],
   "source": [
    "query='''\n",
    "    SELECT \n",
    "        *\n",
    "    FROM \n",
    "        dailySteps_merged\n",
    "'''\n",
    "\n",
    "dailysteps_df = pd.read_sql(query, con)\n",
    "dailysteps_df.columns.values"
   ]
  },
  {
   "cell_type": "markdown",
   "id": "32be24e6",
   "metadata": {},
   "source": [
    "Now we can have a function to check the redundancy of the other three tables with the `dailyActivity_merged` tables."
   ]
  },
  {
   "cell_type": "code",
   "execution_count": 21,
   "id": "c0673033",
   "metadata": {},
   "outputs": [],
   "source": [
    "def check_redundancy (tuple):\n",
    "    if not tuple:\n",
    "        print (\"The choosen columns are redundant.\")\n",
    "    else:\n",
    "        print (\"There are different in the choosen columns!\")\n",
    "        print (tuple)"
   ]
  },
  {
   "cell_type": "code",
   "execution_count": 22,
   "id": "8810b859",
   "metadata": {},
   "outputs": [
    {
     "name": "stdout",
     "output_type": "stream",
     "text": [
      "The choosen columns are redundant.\n"
     ]
    }
   ],
   "source": [
    "query ='''\n",
    "    SELECT\n",
    "        Id,\n",
    "        ActivityDay,\n",
    "        SedentaryMinutes,\n",
    "        LightlyActiveMinutes,\n",
    "        FairlyActiveMinutes, \n",
    "        VeryActiveMinutes, \n",
    "        SedentaryActiveDistance,\n",
    "        LightActiveDistance,\n",
    "        ModeratelyActiveDistance,\n",
    "        VeryActiveDistance\n",
    "    FROM\n",
    "        dailyActivity_merged\n",
    "    EXCEPT\n",
    "    SELECT\n",
    "        Id,\n",
    "        ActivityDay,\n",
    "        SedentaryMinutes,\n",
    "        LightlyActiveMinutes,\n",
    "        FairlyActiveMinutes, \n",
    "        VeryActiveMinutes, \n",
    "        SedentaryActiveDistance,\n",
    "        LightActiveDistance,\n",
    "        ModeratelyActiveDistance,\n",
    "        VeryActiveDistance\n",
    "    FROM\n",
    "        dailyIntensities_merged\n",
    "'''\n",
    "cur.execute(query)\n",
    "check_redundancy(cur.fetchall())"
   ]
  },
  {
   "cell_type": "code",
   "execution_count": 23,
   "id": "90b930bb",
   "metadata": {},
   "outputs": [
    {
     "name": "stdout",
     "output_type": "stream",
     "text": [
      "The choosen columns are redundant.\n"
     ]
    }
   ],
   "source": [
    "query ='''\n",
    "    SELECT\n",
    "        Id,\n",
    "        ActivityDay,\n",
    "        Calories\n",
    "    FROM\n",
    "        dailyActivity_merged\n",
    "    EXCEPT\n",
    "    SELECT\n",
    "        Id,\n",
    "        ActivityDay,\n",
    "        Calories\n",
    "    FROM\n",
    "        dailyCalories_merged\n",
    "'''\n",
    "cur.execute(query)\n",
    "check_redundancy(cur.fetchall())"
   ]
  },
  {
   "cell_type": "code",
   "execution_count": 24,
   "id": "cbdeba51",
   "metadata": {
    "scrolled": true
   },
   "outputs": [
    {
     "name": "stdout",
     "output_type": "stream",
     "text": [
      "The choosen columns are redundant.\n"
     ]
    }
   ],
   "source": [
    "query ='''\n",
    "    SELECT\n",
    "        Id,\n",
    "        ActivityDay,\n",
    "        TotalSteps\n",
    "    FROM\n",
    "        dailyActivity_merged\n",
    "    EXCEPT\n",
    "    SELECT\n",
    "        Id,\n",
    "        ActivityDay,\n",
    "        TotalSteps\n",
    "    FROM\n",
    "        dailySteps_merged\n",
    "'''\n",
    "cur.execute(query)\n",
    "check_redundancy(cur.fetchall())"
   ]
  },
  {
   "cell_type": "markdown",
   "id": "1ed9cc2d",
   "metadata": {},
   "source": [
    "Now, we can see that all information are included in `dailyActivity_merged` table. We will only use the `dailyActivity_merged` table in the following analysis process."
   ]
  },
  {
   "cell_type": "markdown",
   "id": "8b14a4da",
   "metadata": {},
   "source": [
    "### Updating table date format for analysis"
   ]
  },
  {
   "cell_type": "markdown",
   "id": "ad5455ba",
   "metadata": {},
   "source": [
    "Then we need to update the `ActivityDay` column in `dailyActivity_merged` table to match the standard `YYYY-MM-DD` format in order to use the `STFTIME` function in `sqlite3` library for analysis. An order to use complicated regular expression method with SQL query, we will use Python programming to pefrom the transformation process. We first collect the column of the `ActivityDay` data according to there `ROWID` into a python list called `date_list` below. The we can perform the transformation by `datetime` library in Python easily. "
   ]
  },
  {
   "cell_type": "code",
   "execution_count": 25,
   "id": "4a1fcd06",
   "metadata": {},
   "outputs": [
    {
     "name": "stdout",
     "output_type": "stream",
     "text": [
      "[['4/12/2016', 1], ['4/13/2016', 2], ['4/14/2016', 3], ['4/15/2016', 4], ['4/16/2016', 5], ['4/17/2016', 6], ['4/18/2016', 7], ['4/19/2016', 8], ['4/20/2016', 9], ['4/21/2016', 10]]\n"
     ]
    }
   ],
   "source": [
    "query = '''\n",
    "    SELECT\n",
    "        ActivityDay, \n",
    "        ROWID\n",
    "    FROM\n",
    "        dailyActivity_merged\n",
    "'''\n",
    "df = pd.read_sql(query, con)\n",
    "date_list = df.values.tolist()\n",
    "# Avoid to show all the result in list, just show the first 10 to check\n",
    "print(date_list[0:10])"
   ]
  },
  {
   "cell_type": "code",
   "execution_count": 26,
   "id": "f3c7f9c8",
   "metadata": {},
   "outputs": [],
   "source": [
    "# Create a function to easily update the date format from MM/DD/YYYY to the standard YYYY-MM_DD for analysis.\n",
    "def updated_date_format(date_list):\n",
    "    for i in range(len(date_list)):\n",
    "        d = datetime.datetime.strptime(date_list[i][0],\"%m/%d/%Y\")\n",
    "        date_list[i][0]=datetime.date.strftime(d,\"%Y-%m-%d\")\n",
    "    return date_list"
   ]
  },
  {
   "cell_type": "code",
   "execution_count": 27,
   "id": "7e21f0af",
   "metadata": {
    "scrolled": true
   },
   "outputs": [
    {
     "name": "stdout",
     "output_type": "stream",
     "text": [
      "[['2016-04-12', 1], ['2016-04-13', 2], ['2016-04-14', 3], ['2016-04-15', 4], ['2016-04-16', 5], ['2016-04-17', 6], ['2016-04-18', 7], ['2016-04-19', 8], ['2016-04-20', 9], ['2016-04-21', 10]]\n"
     ]
    }
   ],
   "source": [
    "updated_date_list = updated_date_format(date_list)\n",
    "# Avoid to show all the result in list, just show the first 10 to check\n",
    "print(updated_date_list[0:10])"
   ]
  },
  {
   "cell_type": "markdown",
   "id": "b5d2bad3",
   "metadata": {},
   "source": [
    "Counter check if we update the date successfully into our dataframe."
   ]
  },
  {
   "cell_type": "code",
   "execution_count": 28,
   "id": "8ca43ebc",
   "metadata": {},
   "outputs": [
    {
     "data": {
      "text/html": [
       "<div>\n",
       "<style scoped>\n",
       "    .dataframe tbody tr th:only-of-type {\n",
       "        vertical-align: middle;\n",
       "    }\n",
       "\n",
       "    .dataframe tbody tr th {\n",
       "        vertical-align: top;\n",
       "    }\n",
       "\n",
       "    .dataframe thead th {\n",
       "        text-align: right;\n",
       "    }\n",
       "</style>\n",
       "<table border=\"1\" class=\"dataframe\">\n",
       "  <thead>\n",
       "    <tr style=\"text-align: right;\">\n",
       "      <th></th>\n",
       "      <th>Id</th>\n",
       "      <th>ActivityDay</th>\n",
       "      <th>TotalSteps</th>\n",
       "      <th>TotalDistance</th>\n",
       "      <th>TrackerDistance</th>\n",
       "      <th>LoggedActivitiesDistance</th>\n",
       "      <th>VeryActiveDistance</th>\n",
       "      <th>ModeratelyActiveDistance</th>\n",
       "      <th>LightActiveDistance</th>\n",
       "      <th>SedentaryActiveDistance</th>\n",
       "      <th>VeryActiveMinutes</th>\n",
       "      <th>FairlyActiveMinutes</th>\n",
       "      <th>LightlyActiveMinutes</th>\n",
       "      <th>SedentaryMinutes</th>\n",
       "      <th>Calories</th>\n",
       "    </tr>\n",
       "  </thead>\n",
       "  <tbody>\n",
       "    <tr>\n",
       "      <th>0</th>\n",
       "      <td>1503960366</td>\n",
       "      <td>2016-04-12</td>\n",
       "      <td>13162</td>\n",
       "      <td>8.50</td>\n",
       "      <td>8.50</td>\n",
       "      <td>0.0</td>\n",
       "      <td>1.88</td>\n",
       "      <td>0.55</td>\n",
       "      <td>6.06</td>\n",
       "      <td>0.0</td>\n",
       "      <td>25</td>\n",
       "      <td>13</td>\n",
       "      <td>328</td>\n",
       "      <td>728</td>\n",
       "      <td>1985</td>\n",
       "    </tr>\n",
       "    <tr>\n",
       "      <th>1</th>\n",
       "      <td>1503960366</td>\n",
       "      <td>2016-04-13</td>\n",
       "      <td>10735</td>\n",
       "      <td>6.97</td>\n",
       "      <td>6.97</td>\n",
       "      <td>0.0</td>\n",
       "      <td>1.57</td>\n",
       "      <td>0.69</td>\n",
       "      <td>4.71</td>\n",
       "      <td>0.0</td>\n",
       "      <td>21</td>\n",
       "      <td>19</td>\n",
       "      <td>217</td>\n",
       "      <td>776</td>\n",
       "      <td>1797</td>\n",
       "    </tr>\n",
       "    <tr>\n",
       "      <th>2</th>\n",
       "      <td>1503960366</td>\n",
       "      <td>2016-04-14</td>\n",
       "      <td>10460</td>\n",
       "      <td>6.74</td>\n",
       "      <td>6.74</td>\n",
       "      <td>0.0</td>\n",
       "      <td>2.44</td>\n",
       "      <td>0.40</td>\n",
       "      <td>3.91</td>\n",
       "      <td>0.0</td>\n",
       "      <td>30</td>\n",
       "      <td>11</td>\n",
       "      <td>181</td>\n",
       "      <td>1218</td>\n",
       "      <td>1776</td>\n",
       "    </tr>\n",
       "    <tr>\n",
       "      <th>3</th>\n",
       "      <td>1503960366</td>\n",
       "      <td>2016-04-15</td>\n",
       "      <td>9762</td>\n",
       "      <td>6.28</td>\n",
       "      <td>6.28</td>\n",
       "      <td>0.0</td>\n",
       "      <td>2.14</td>\n",
       "      <td>1.26</td>\n",
       "      <td>2.83</td>\n",
       "      <td>0.0</td>\n",
       "      <td>29</td>\n",
       "      <td>34</td>\n",
       "      <td>209</td>\n",
       "      <td>726</td>\n",
       "      <td>1745</td>\n",
       "    </tr>\n",
       "    <tr>\n",
       "      <th>4</th>\n",
       "      <td>1503960366</td>\n",
       "      <td>2016-04-16</td>\n",
       "      <td>12669</td>\n",
       "      <td>8.16</td>\n",
       "      <td>8.16</td>\n",
       "      <td>0.0</td>\n",
       "      <td>2.71</td>\n",
       "      <td>0.41</td>\n",
       "      <td>5.04</td>\n",
       "      <td>0.0</td>\n",
       "      <td>36</td>\n",
       "      <td>10</td>\n",
       "      <td>221</td>\n",
       "      <td>773</td>\n",
       "      <td>1863</td>\n",
       "    </tr>\n",
       "  </tbody>\n",
       "</table>\n",
       "</div>"
      ],
      "text/plain": [
       "           Id ActivityDay  TotalSteps  TotalDistance  TrackerDistance  \\\n",
       "0  1503960366  2016-04-12       13162           8.50             8.50   \n",
       "1  1503960366  2016-04-13       10735           6.97             6.97   \n",
       "2  1503960366  2016-04-14       10460           6.74             6.74   \n",
       "3  1503960366  2016-04-15        9762           6.28             6.28   \n",
       "4  1503960366  2016-04-16       12669           8.16             8.16   \n",
       "\n",
       "   LoggedActivitiesDistance  VeryActiveDistance  ModeratelyActiveDistance  \\\n",
       "0                       0.0                1.88                      0.55   \n",
       "1                       0.0                1.57                      0.69   \n",
       "2                       0.0                2.44                      0.40   \n",
       "3                       0.0                2.14                      1.26   \n",
       "4                       0.0                2.71                      0.41   \n",
       "\n",
       "   LightActiveDistance  SedentaryActiveDistance  VeryActiveMinutes  \\\n",
       "0                 6.06                      0.0                 25   \n",
       "1                 4.71                      0.0                 21   \n",
       "2                 3.91                      0.0                 30   \n",
       "3                 2.83                      0.0                 29   \n",
       "4                 5.04                      0.0                 36   \n",
       "\n",
       "   FairlyActiveMinutes  LightlyActiveMinutes  SedentaryMinutes  Calories  \n",
       "0                   13                   328               728      1985  \n",
       "1                   19                   217               776      1797  \n",
       "2                   11                   181              1218      1776  \n",
       "3                   34                   209               726      1745  \n",
       "4                   10                   221               773      1863  "
      ]
     },
     "execution_count": 28,
     "metadata": {},
     "output_type": "execute_result"
    }
   ],
   "source": [
    "for i in range(len(updated_date_list)):\n",
    "    dailyactivity_df.loc[i, ['ActivityDay']]=updated_date_list[i][0]\n",
    "dailyactivity_df.head()"
   ]
  },
  {
   "cell_type": "markdown",
   "id": "084fb692",
   "metadata": {},
   "source": [
    "After updating the date format in the date_list, we can then update the column of `ActivityDay` with our updated format according to the `ROWID` in the `date_list` to the `dailyActivity_merged` table as follow:"
   ]
  },
  {
   "cell_type": "code",
   "execution_count": 29,
   "id": "49f03075",
   "metadata": {},
   "outputs": [],
   "source": [
    "def update_dailyActivity_ActivityDay(record_list):\n",
    "    try:\n",
    "        sql_update_query='''\n",
    "            UPDATE \n",
    "                dailyActivity_merged\n",
    "            SET \n",
    "                ActivityDay = ?\n",
    "            WHERE \n",
    "                ROWID = ?\n",
    "        '''\n",
    "        cur.executemany(sql_update_query, record_list)\n",
    "        con.commit()\n",
    "        print(\"Total\", cur.rowcount, \"Records updated successfully.\")\n",
    "    except sql.Error as error:\n",
    "        print(\"Failed to update multiple records of sqlite table\", error)"
   ]
  },
  {
   "cell_type": "code",
   "execution_count": 30,
   "id": "f56a6b24",
   "metadata": {},
   "outputs": [
    {
     "name": "stdout",
     "output_type": "stream",
     "text": [
      "Total 940 Records updated successfully.\n"
     ]
    }
   ],
   "source": [
    "update_dailyActivity_ActivityDay(updated_date_list)"
   ]
  },
  {
   "cell_type": "markdown",
   "id": "3085d648",
   "metadata": {},
   "source": [
    "All the records are updated and run a SQL query to check if the date is in proper format now:"
   ]
  },
  {
   "cell_type": "code",
   "execution_count": 31,
   "id": "9ab4c502",
   "metadata": {},
   "outputs": [
    {
     "data": {
      "text/html": [
       "<div>\n",
       "<style scoped>\n",
       "    .dataframe tbody tr th:only-of-type {\n",
       "        vertical-align: middle;\n",
       "    }\n",
       "\n",
       "    .dataframe tbody tr th {\n",
       "        vertical-align: top;\n",
       "    }\n",
       "\n",
       "    .dataframe thead th {\n",
       "        text-align: right;\n",
       "    }\n",
       "</style>\n",
       "<table border=\"1\" class=\"dataframe\">\n",
       "  <thead>\n",
       "    <tr style=\"text-align: right;\">\n",
       "      <th></th>\n",
       "      <th>Id</th>\n",
       "      <th>ActivityDay</th>\n",
       "      <th>TotalSteps</th>\n",
       "      <th>TotalDistance</th>\n",
       "      <th>TrackerDistance</th>\n",
       "      <th>LoggedActivitiesDistance</th>\n",
       "      <th>VeryActiveDistance</th>\n",
       "      <th>ModeratelyActiveDistance</th>\n",
       "      <th>LightActiveDistance</th>\n",
       "      <th>SedentaryActiveDistance</th>\n",
       "      <th>VeryActiveMinutes</th>\n",
       "      <th>FairlyActiveMinutes</th>\n",
       "      <th>LightlyActiveMinutes</th>\n",
       "      <th>SedentaryMinutes</th>\n",
       "      <th>Calories</th>\n",
       "    </tr>\n",
       "  </thead>\n",
       "  <tbody>\n",
       "    <tr>\n",
       "      <th>0</th>\n",
       "      <td>1503960366</td>\n",
       "      <td>2016-04-12</td>\n",
       "      <td>13162</td>\n",
       "      <td>8.50</td>\n",
       "      <td>8.50</td>\n",
       "      <td>0.0</td>\n",
       "      <td>1.88</td>\n",
       "      <td>0.55</td>\n",
       "      <td>6.06</td>\n",
       "      <td>0.0</td>\n",
       "      <td>25</td>\n",
       "      <td>13</td>\n",
       "      <td>328</td>\n",
       "      <td>728</td>\n",
       "      <td>1985</td>\n",
       "    </tr>\n",
       "    <tr>\n",
       "      <th>1</th>\n",
       "      <td>1503960366</td>\n",
       "      <td>2016-04-13</td>\n",
       "      <td>10735</td>\n",
       "      <td>6.97</td>\n",
       "      <td>6.97</td>\n",
       "      <td>0.0</td>\n",
       "      <td>1.57</td>\n",
       "      <td>0.69</td>\n",
       "      <td>4.71</td>\n",
       "      <td>0.0</td>\n",
       "      <td>21</td>\n",
       "      <td>19</td>\n",
       "      <td>217</td>\n",
       "      <td>776</td>\n",
       "      <td>1797</td>\n",
       "    </tr>\n",
       "    <tr>\n",
       "      <th>2</th>\n",
       "      <td>1503960366</td>\n",
       "      <td>2016-04-14</td>\n",
       "      <td>10460</td>\n",
       "      <td>6.74</td>\n",
       "      <td>6.74</td>\n",
       "      <td>0.0</td>\n",
       "      <td>2.44</td>\n",
       "      <td>0.40</td>\n",
       "      <td>3.91</td>\n",
       "      <td>0.0</td>\n",
       "      <td>30</td>\n",
       "      <td>11</td>\n",
       "      <td>181</td>\n",
       "      <td>1218</td>\n",
       "      <td>1776</td>\n",
       "    </tr>\n",
       "    <tr>\n",
       "      <th>3</th>\n",
       "      <td>1503960366</td>\n",
       "      <td>2016-04-15</td>\n",
       "      <td>9762</td>\n",
       "      <td>6.28</td>\n",
       "      <td>6.28</td>\n",
       "      <td>0.0</td>\n",
       "      <td>2.14</td>\n",
       "      <td>1.26</td>\n",
       "      <td>2.83</td>\n",
       "      <td>0.0</td>\n",
       "      <td>29</td>\n",
       "      <td>34</td>\n",
       "      <td>209</td>\n",
       "      <td>726</td>\n",
       "      <td>1745</td>\n",
       "    </tr>\n",
       "    <tr>\n",
       "      <th>4</th>\n",
       "      <td>1503960366</td>\n",
       "      <td>2016-04-16</td>\n",
       "      <td>12669</td>\n",
       "      <td>8.16</td>\n",
       "      <td>8.16</td>\n",
       "      <td>0.0</td>\n",
       "      <td>2.71</td>\n",
       "      <td>0.41</td>\n",
       "      <td>5.04</td>\n",
       "      <td>0.0</td>\n",
       "      <td>36</td>\n",
       "      <td>10</td>\n",
       "      <td>221</td>\n",
       "      <td>773</td>\n",
       "      <td>1863</td>\n",
       "    </tr>\n",
       "  </tbody>\n",
       "</table>\n",
       "</div>"
      ],
      "text/plain": [
       "           Id ActivityDay  TotalSteps  TotalDistance  TrackerDistance  \\\n",
       "0  1503960366  2016-04-12       13162           8.50             8.50   \n",
       "1  1503960366  2016-04-13       10735           6.97             6.97   \n",
       "2  1503960366  2016-04-14       10460           6.74             6.74   \n",
       "3  1503960366  2016-04-15        9762           6.28             6.28   \n",
       "4  1503960366  2016-04-16       12669           8.16             8.16   \n",
       "\n",
       "   LoggedActivitiesDistance  VeryActiveDistance  ModeratelyActiveDistance  \\\n",
       "0                       0.0                1.88                      0.55   \n",
       "1                       0.0                1.57                      0.69   \n",
       "2                       0.0                2.44                      0.40   \n",
       "3                       0.0                2.14                      1.26   \n",
       "4                       0.0                2.71                      0.41   \n",
       "\n",
       "   LightActiveDistance  SedentaryActiveDistance  VeryActiveMinutes  \\\n",
       "0                 6.06                      0.0                 25   \n",
       "1                 4.71                      0.0                 21   \n",
       "2                 3.91                      0.0                 30   \n",
       "3                 2.83                      0.0                 29   \n",
       "4                 5.04                      0.0                 36   \n",
       "\n",
       "   FairlyActiveMinutes  LightlyActiveMinutes  SedentaryMinutes  Calories  \n",
       "0                   13                   328               728      1985  \n",
       "1                   19                   217               776      1797  \n",
       "2                   11                   181              1218      1776  \n",
       "3                   34                   209               726      1745  \n",
       "4                   10                   221               773      1863  "
      ]
     },
     "execution_count": 31,
     "metadata": {},
     "output_type": "execute_result"
    }
   ],
   "source": [
    "query='''\n",
    "    SELECT \n",
    "        *\n",
    "    FROM \n",
    "        dailyActivity_merged\n",
    "'''\n",
    "\n",
    "dailyactivity_df = pd.read_sql(query, con)\n",
    "dailyactivity_df.head()"
   ]
  },
  {
   "cell_type": "markdown",
   "id": "51c37242",
   "metadata": {},
   "source": [
    "As we have update the date format into standard format of SQLite, we can now use the function `STRFTIME` to extract information on the day, month, year and weekdays as follow:"
   ]
  },
  {
   "cell_type": "markdown",
   "id": "5cca7c32",
   "metadata": {},
   "source": [
    "(Please note that integer **0-6** is mapping withing **Sunday, Monday, Tuesday, Wednesday, Thursday, Friday, Saturday** no matter in `datetime` of Python or `STRFTIME` in SQLite)"
   ]
  },
  {
   "cell_type": "code",
   "execution_count": 32,
   "id": "eae74757",
   "metadata": {},
   "outputs": [
    {
     "data": {
      "text/html": [
       "<div>\n",
       "<style scoped>\n",
       "    .dataframe tbody tr th:only-of-type {\n",
       "        vertical-align: middle;\n",
       "    }\n",
       "\n",
       "    .dataframe tbody tr th {\n",
       "        vertical-align: top;\n",
       "    }\n",
       "\n",
       "    .dataframe thead th {\n",
       "        text-align: right;\n",
       "    }\n",
       "</style>\n",
       "<table border=\"1\" class=\"dataframe\">\n",
       "  <thead>\n",
       "    <tr style=\"text-align: right;\">\n",
       "      <th></th>\n",
       "      <th>Id</th>\n",
       "      <th>ActivityDay</th>\n",
       "      <th>TotalSteps</th>\n",
       "      <th>TotalDistance</th>\n",
       "      <th>TrackerDistance</th>\n",
       "      <th>LoggedActivitiesDistance</th>\n",
       "      <th>VeryActiveDistance</th>\n",
       "      <th>ModeratelyActiveDistance</th>\n",
       "      <th>LightActiveDistance</th>\n",
       "      <th>SedentaryActiveDistance</th>\n",
       "      <th>VeryActiveMinutes</th>\n",
       "      <th>FairlyActiveMinutes</th>\n",
       "      <th>LightlyActiveMinutes</th>\n",
       "      <th>SedentaryMinutes</th>\n",
       "      <th>Calories</th>\n",
       "      <th>Day</th>\n",
       "      <th>Month</th>\n",
       "      <th>Year</th>\n",
       "      <th>Weekday</th>\n",
       "    </tr>\n",
       "  </thead>\n",
       "  <tbody>\n",
       "    <tr>\n",
       "      <th>0</th>\n",
       "      <td>1503960366</td>\n",
       "      <td>2016-04-12</td>\n",
       "      <td>13162</td>\n",
       "      <td>8.50</td>\n",
       "      <td>8.50</td>\n",
       "      <td>0.0</td>\n",
       "      <td>1.88</td>\n",
       "      <td>0.55</td>\n",
       "      <td>6.06</td>\n",
       "      <td>0.0</td>\n",
       "      <td>25</td>\n",
       "      <td>13</td>\n",
       "      <td>328</td>\n",
       "      <td>728</td>\n",
       "      <td>1985</td>\n",
       "      <td>12</td>\n",
       "      <td>04</td>\n",
       "      <td>2016</td>\n",
       "      <td>2</td>\n",
       "    </tr>\n",
       "    <tr>\n",
       "      <th>1</th>\n",
       "      <td>1503960366</td>\n",
       "      <td>2016-04-13</td>\n",
       "      <td>10735</td>\n",
       "      <td>6.97</td>\n",
       "      <td>6.97</td>\n",
       "      <td>0.0</td>\n",
       "      <td>1.57</td>\n",
       "      <td>0.69</td>\n",
       "      <td>4.71</td>\n",
       "      <td>0.0</td>\n",
       "      <td>21</td>\n",
       "      <td>19</td>\n",
       "      <td>217</td>\n",
       "      <td>776</td>\n",
       "      <td>1797</td>\n",
       "      <td>13</td>\n",
       "      <td>04</td>\n",
       "      <td>2016</td>\n",
       "      <td>3</td>\n",
       "    </tr>\n",
       "    <tr>\n",
       "      <th>2</th>\n",
       "      <td>1503960366</td>\n",
       "      <td>2016-04-14</td>\n",
       "      <td>10460</td>\n",
       "      <td>6.74</td>\n",
       "      <td>6.74</td>\n",
       "      <td>0.0</td>\n",
       "      <td>2.44</td>\n",
       "      <td>0.40</td>\n",
       "      <td>3.91</td>\n",
       "      <td>0.0</td>\n",
       "      <td>30</td>\n",
       "      <td>11</td>\n",
       "      <td>181</td>\n",
       "      <td>1218</td>\n",
       "      <td>1776</td>\n",
       "      <td>14</td>\n",
       "      <td>04</td>\n",
       "      <td>2016</td>\n",
       "      <td>4</td>\n",
       "    </tr>\n",
       "    <tr>\n",
       "      <th>3</th>\n",
       "      <td>1503960366</td>\n",
       "      <td>2016-04-15</td>\n",
       "      <td>9762</td>\n",
       "      <td>6.28</td>\n",
       "      <td>6.28</td>\n",
       "      <td>0.0</td>\n",
       "      <td>2.14</td>\n",
       "      <td>1.26</td>\n",
       "      <td>2.83</td>\n",
       "      <td>0.0</td>\n",
       "      <td>29</td>\n",
       "      <td>34</td>\n",
       "      <td>209</td>\n",
       "      <td>726</td>\n",
       "      <td>1745</td>\n",
       "      <td>15</td>\n",
       "      <td>04</td>\n",
       "      <td>2016</td>\n",
       "      <td>5</td>\n",
       "    </tr>\n",
       "    <tr>\n",
       "      <th>4</th>\n",
       "      <td>1503960366</td>\n",
       "      <td>2016-04-16</td>\n",
       "      <td>12669</td>\n",
       "      <td>8.16</td>\n",
       "      <td>8.16</td>\n",
       "      <td>0.0</td>\n",
       "      <td>2.71</td>\n",
       "      <td>0.41</td>\n",
       "      <td>5.04</td>\n",
       "      <td>0.0</td>\n",
       "      <td>36</td>\n",
       "      <td>10</td>\n",
       "      <td>221</td>\n",
       "      <td>773</td>\n",
       "      <td>1863</td>\n",
       "      <td>16</td>\n",
       "      <td>04</td>\n",
       "      <td>2016</td>\n",
       "      <td>6</td>\n",
       "    </tr>\n",
       "  </tbody>\n",
       "</table>\n",
       "</div>"
      ],
      "text/plain": [
       "           Id ActivityDay  TotalSteps  TotalDistance  TrackerDistance  \\\n",
       "0  1503960366  2016-04-12       13162           8.50             8.50   \n",
       "1  1503960366  2016-04-13       10735           6.97             6.97   \n",
       "2  1503960366  2016-04-14       10460           6.74             6.74   \n",
       "3  1503960366  2016-04-15        9762           6.28             6.28   \n",
       "4  1503960366  2016-04-16       12669           8.16             8.16   \n",
       "\n",
       "   LoggedActivitiesDistance  VeryActiveDistance  ModeratelyActiveDistance  \\\n",
       "0                       0.0                1.88                      0.55   \n",
       "1                       0.0                1.57                      0.69   \n",
       "2                       0.0                2.44                      0.40   \n",
       "3                       0.0                2.14                      1.26   \n",
       "4                       0.0                2.71                      0.41   \n",
       "\n",
       "   LightActiveDistance  SedentaryActiveDistance  VeryActiveMinutes  \\\n",
       "0                 6.06                      0.0                 25   \n",
       "1                 4.71                      0.0                 21   \n",
       "2                 3.91                      0.0                 30   \n",
       "3                 2.83                      0.0                 29   \n",
       "4                 5.04                      0.0                 36   \n",
       "\n",
       "   FairlyActiveMinutes  LightlyActiveMinutes  SedentaryMinutes  Calories Day  \\\n",
       "0                   13                   328               728      1985  12   \n",
       "1                   19                   217               776      1797  13   \n",
       "2                   11                   181              1218      1776  14   \n",
       "3                   34                   209               726      1745  15   \n",
       "4                   10                   221               773      1863  16   \n",
       "\n",
       "  Month  Year Weekday  \n",
       "0    04  2016       2  \n",
       "1    04  2016       3  \n",
       "2    04  2016       4  \n",
       "3    04  2016       5  \n",
       "4    04  2016       6  "
      ]
     },
     "execution_count": 32,
     "metadata": {},
     "output_type": "execute_result"
    }
   ],
   "source": [
    "query = \"\"\"\n",
    "SELECT\n",
    "    *,\n",
    "    STRFTIME('%d',ActivityDay) AS Day,\n",
    "    STRFTIME('%m',ActivityDay) AS Month,\n",
    "    STRFTIME('%Y',ActivityDay) AS Year,\n",
    "    STRFTIME('%w',ActivityDay) AS Weekday\n",
    "FROM dailyActivity_merged;\n",
    "\"\"\"\n",
    "\n",
    "cleaned_dailyActivity_df = pd.read_sql(query, con)\n",
    "cleaned_dailyActivity_df.head()"
   ]
  },
  {
   "cell_type": "markdown",
   "id": "0369951a",
   "metadata": {},
   "source": [
    "After changing the date, we check if there is any `NA` or `NULL` values in the dateActivity table."
   ]
  },
  {
   "cell_type": "code",
   "execution_count": 33,
   "id": "88e861a0",
   "metadata": {},
   "outputs": [
    {
     "data": {
      "text/plain": [
       "0"
      ]
     },
     "execution_count": 33,
     "metadata": {},
     "output_type": "execute_result"
    }
   ],
   "source": [
    "len(df[cleaned_dailyActivity_df.isnull().any(axis=1)])"
   ]
  },
  {
   "cell_type": "markdown",
   "id": "3890ab12",
   "metadata": {},
   "source": [
    "Then we check if there is any row with 0 calories and we will clean it. "
   ]
  },
  {
   "cell_type": "code",
   "execution_count": 34,
   "id": "e73cd733",
   "metadata": {
    "scrolled": true
   },
   "outputs": [
    {
     "data": {
      "text/html": [
       "<div>\n",
       "<style scoped>\n",
       "    .dataframe tbody tr th:only-of-type {\n",
       "        vertical-align: middle;\n",
       "    }\n",
       "\n",
       "    .dataframe tbody tr th {\n",
       "        vertical-align: top;\n",
       "    }\n",
       "\n",
       "    .dataframe thead th {\n",
       "        text-align: right;\n",
       "    }\n",
       "</style>\n",
       "<table border=\"1\" class=\"dataframe\">\n",
       "  <thead>\n",
       "    <tr style=\"text-align: right;\">\n",
       "      <th></th>\n",
       "      <th>Id</th>\n",
       "      <th>ActivityDay</th>\n",
       "      <th>TotalSteps</th>\n",
       "      <th>TotalDistance</th>\n",
       "      <th>TrackerDistance</th>\n",
       "      <th>LoggedActivitiesDistance</th>\n",
       "      <th>VeryActiveDistance</th>\n",
       "      <th>ModeratelyActiveDistance</th>\n",
       "      <th>LightActiveDistance</th>\n",
       "      <th>SedentaryActiveDistance</th>\n",
       "      <th>VeryActiveMinutes</th>\n",
       "      <th>FairlyActiveMinutes</th>\n",
       "      <th>LightlyActiveMinutes</th>\n",
       "      <th>SedentaryMinutes</th>\n",
       "      <th>Calories</th>\n",
       "    </tr>\n",
       "  </thead>\n",
       "  <tbody>\n",
       "    <tr>\n",
       "      <th>0</th>\n",
       "      <td>1503960366</td>\n",
       "      <td>2016-05-12</td>\n",
       "      <td>0</td>\n",
       "      <td>0.0</td>\n",
       "      <td>0.0</td>\n",
       "      <td>0.0</td>\n",
       "      <td>0.0</td>\n",
       "      <td>0.0</td>\n",
       "      <td>0.0</td>\n",
       "      <td>0.0</td>\n",
       "      <td>0</td>\n",
       "      <td>0</td>\n",
       "      <td>0</td>\n",
       "      <td>1440</td>\n",
       "      <td>0</td>\n",
       "    </tr>\n",
       "    <tr>\n",
       "      <th>1</th>\n",
       "      <td>6290855005</td>\n",
       "      <td>2016-05-10</td>\n",
       "      <td>0</td>\n",
       "      <td>0.0</td>\n",
       "      <td>0.0</td>\n",
       "      <td>0.0</td>\n",
       "      <td>0.0</td>\n",
       "      <td>0.0</td>\n",
       "      <td>0.0</td>\n",
       "      <td>0.0</td>\n",
       "      <td>0</td>\n",
       "      <td>0</td>\n",
       "      <td>0</td>\n",
       "      <td>1440</td>\n",
       "      <td>0</td>\n",
       "    </tr>\n",
       "    <tr>\n",
       "      <th>2</th>\n",
       "      <td>8253242879</td>\n",
       "      <td>2016-04-30</td>\n",
       "      <td>0</td>\n",
       "      <td>0.0</td>\n",
       "      <td>0.0</td>\n",
       "      <td>0.0</td>\n",
       "      <td>0.0</td>\n",
       "      <td>0.0</td>\n",
       "      <td>0.0</td>\n",
       "      <td>0.0</td>\n",
       "      <td>0</td>\n",
       "      <td>0</td>\n",
       "      <td>0</td>\n",
       "      <td>1440</td>\n",
       "      <td>0</td>\n",
       "    </tr>\n",
       "    <tr>\n",
       "      <th>3</th>\n",
       "      <td>8583815059</td>\n",
       "      <td>2016-05-12</td>\n",
       "      <td>0</td>\n",
       "      <td>0.0</td>\n",
       "      <td>0.0</td>\n",
       "      <td>0.0</td>\n",
       "      <td>0.0</td>\n",
       "      <td>0.0</td>\n",
       "      <td>0.0</td>\n",
       "      <td>0.0</td>\n",
       "      <td>0</td>\n",
       "      <td>0</td>\n",
       "      <td>0</td>\n",
       "      <td>1440</td>\n",
       "      <td>0</td>\n",
       "    </tr>\n",
       "  </tbody>\n",
       "</table>\n",
       "</div>"
      ],
      "text/plain": [
       "           Id ActivityDay  TotalSteps  TotalDistance  TrackerDistance  \\\n",
       "0  1503960366  2016-05-12           0            0.0              0.0   \n",
       "1  6290855005  2016-05-10           0            0.0              0.0   \n",
       "2  8253242879  2016-04-30           0            0.0              0.0   \n",
       "3  8583815059  2016-05-12           0            0.0              0.0   \n",
       "\n",
       "   LoggedActivitiesDistance  VeryActiveDistance  ModeratelyActiveDistance  \\\n",
       "0                       0.0                 0.0                       0.0   \n",
       "1                       0.0                 0.0                       0.0   \n",
       "2                       0.0                 0.0                       0.0   \n",
       "3                       0.0                 0.0                       0.0   \n",
       "\n",
       "   LightActiveDistance  SedentaryActiveDistance  VeryActiveMinutes  \\\n",
       "0                  0.0                      0.0                  0   \n",
       "1                  0.0                      0.0                  0   \n",
       "2                  0.0                      0.0                  0   \n",
       "3                  0.0                      0.0                  0   \n",
       "\n",
       "   FairlyActiveMinutes  LightlyActiveMinutes  SedentaryMinutes  Calories  \n",
       "0                    0                     0              1440         0  \n",
       "1                    0                     0              1440         0  \n",
       "2                    0                     0              1440         0  \n",
       "3                    0                     0              1440         0  "
      ]
     },
     "execution_count": 34,
     "metadata": {},
     "output_type": "execute_result"
    }
   ],
   "source": [
    "query = '''\n",
    "    SELECT\n",
    "        *\n",
    "    FROM \n",
    "        dailyActivity_merged\n",
    "    WHERE\n",
    "        Calories = 0;\n",
    "'''\n",
    "\n",
    "df = pd.read_sql(query, con)\n",
    "df"
   ]
  },
  {
   "cell_type": "code",
   "execution_count": 35,
   "id": "1dbb50ef",
   "metadata": {},
   "outputs": [
    {
     "name": "stdout",
     "output_type": "stream",
     "text": [
      "Total 4 Records deleted successfully.\n"
     ]
    }
   ],
   "source": [
    "try:\n",
    "    query ='''\n",
    "        DELETE FROM\n",
    "            dailyActivity_merged\n",
    "        WHERE \n",
    "            Calories = 0;\n",
    "    '''\n",
    "    cur.execute(query)\n",
    "    con.commit()\n",
    "    print(\"Total\", cur.rowcount, \"Records deleted successfully.\")\n",
    "except sql.Error as error:\n",
    "    print(\"Failed to delete rows of sqlite table\", error)"
   ]
  },
  {
   "cell_type": "code",
   "execution_count": 36,
   "id": "3f53a6cf",
   "metadata": {},
   "outputs": [
    {
     "name": "stdout",
     "output_type": "stream",
     "text": [
      "<class 'pandas.core.frame.DataFrame'>\n",
      "RangeIndex: 936 entries, 0 to 935\n",
      "Data columns (total 19 columns):\n",
      " #   Column                    Non-Null Count  Dtype  \n",
      "---  ------                    --------------  -----  \n",
      " 0   Id                        936 non-null    int64  \n",
      " 1   ActivityDay               936 non-null    object \n",
      " 2   TotalSteps                936 non-null    int64  \n",
      " 3   TotalDistance             936 non-null    float64\n",
      " 4   TrackerDistance           936 non-null    float64\n",
      " 5   LoggedActivitiesDistance  936 non-null    float64\n",
      " 6   VeryActiveDistance        936 non-null    float64\n",
      " 7   ModeratelyActiveDistance  936 non-null    float64\n",
      " 8   LightActiveDistance       936 non-null    float64\n",
      " 9   SedentaryActiveDistance   936 non-null    float64\n",
      " 10  VeryActiveMinutes         936 non-null    int64  \n",
      " 11  FairlyActiveMinutes       936 non-null    int64  \n",
      " 12  LightlyActiveMinutes      936 non-null    int64  \n",
      " 13  SedentaryMinutes          936 non-null    int64  \n",
      " 14  Calories                  936 non-null    int64  \n",
      " 15  Day                       936 non-null    object \n",
      " 16  Month                     936 non-null    object \n",
      " 17  Year                      936 non-null    object \n",
      " 18  Weekday                   936 non-null    object \n",
      "dtypes: float64(7), int64(7), object(5)\n",
      "memory usage: 139.1+ KB\n"
     ]
    }
   ],
   "source": [
    "query = \"\"\"\n",
    "SELECT\n",
    "    *,\n",
    "    STRFTIME('%d',ActivityDay) AS Day,\n",
    "    STRFTIME('%m',ActivityDay) AS Month,\n",
    "    STRFTIME('%Y',ActivityDay) AS Year,\n",
    "    STRFTIME('%w',ActivityDay) AS Weekday\n",
    "FROM dailyActivity_merged;\n",
    "\"\"\"\n",
    "\n",
    "cleaned_dailyActivity_df = pd.read_sql(query, con)\n",
    "cleaned_dailyActivity_df.info()"
   ]
  },
  {
   "cell_type": "markdown",
   "id": "429096bd",
   "metadata": {},
   "source": [
    "Finally, 936 rows of data left and we finish the data cleaning for the `dataActivity_merged` table."
   ]
  },
  {
   "cell_type": "markdown",
   "id": "b6f73579",
   "metadata": {},
   "source": [
    "Let's continue to our cleaning process to the `sleepDay_merged` table as we are going to look for the data inside."
   ]
  },
  {
   "cell_type": "code",
   "execution_count": 37,
   "id": "c63d21f0",
   "metadata": {},
   "outputs": [
    {
     "name": "stdout",
     "output_type": "stream",
     "text": [
      "<class 'pandas.core.frame.DataFrame'>\n",
      "RangeIndex: 413 entries, 0 to 412\n",
      "Data columns (total 5 columns):\n",
      " #   Column              Non-Null Count  Dtype \n",
      "---  ------              --------------  ----- \n",
      " 0   Id                  413 non-null    int64 \n",
      " 1   SleepDay            413 non-null    object\n",
      " 2   TotalSleepRecords   413 non-null    int64 \n",
      " 3   TotalMinutesAsleep  413 non-null    int64 \n",
      " 4   TotalTimeInBed      413 non-null    int64 \n",
      "dtypes: int64(4), object(1)\n",
      "memory usage: 16.3+ KB\n"
     ]
    }
   ],
   "source": [
    "query = '''\n",
    "    SELECT\n",
    "        *\n",
    "    FROM\n",
    "        sleepDay_merged;\n",
    "'''\n",
    "sleepday_df = pd.read_sql(query, con)\n",
    "sleepday_df.info()"
   ]
  },
  {
   "cell_type": "code",
   "execution_count": 38,
   "id": "c78ae9f2",
   "metadata": {},
   "outputs": [
    {
     "data": {
      "text/html": [
       "<div>\n",
       "<style scoped>\n",
       "    .dataframe tbody tr th:only-of-type {\n",
       "        vertical-align: middle;\n",
       "    }\n",
       "\n",
       "    .dataframe tbody tr th {\n",
       "        vertical-align: top;\n",
       "    }\n",
       "\n",
       "    .dataframe thead th {\n",
       "        text-align: right;\n",
       "    }\n",
       "</style>\n",
       "<table border=\"1\" class=\"dataframe\">\n",
       "  <thead>\n",
       "    <tr style=\"text-align: right;\">\n",
       "      <th></th>\n",
       "      <th>Id</th>\n",
       "      <th>SleepDay</th>\n",
       "      <th>TotalSleepRecords</th>\n",
       "      <th>TotalMinutesAsleep</th>\n",
       "      <th>TotalTimeInBed</th>\n",
       "    </tr>\n",
       "  </thead>\n",
       "  <tbody>\n",
       "    <tr>\n",
       "      <th>0</th>\n",
       "      <td>1503960366</td>\n",
       "      <td>4/12/2016 12:00:00 AM</td>\n",
       "      <td>1</td>\n",
       "      <td>327</td>\n",
       "      <td>346</td>\n",
       "    </tr>\n",
       "    <tr>\n",
       "      <th>1</th>\n",
       "      <td>1503960366</td>\n",
       "      <td>4/13/2016 12:00:00 AM</td>\n",
       "      <td>2</td>\n",
       "      <td>384</td>\n",
       "      <td>407</td>\n",
       "    </tr>\n",
       "    <tr>\n",
       "      <th>2</th>\n",
       "      <td>1503960366</td>\n",
       "      <td>4/15/2016 12:00:00 AM</td>\n",
       "      <td>1</td>\n",
       "      <td>412</td>\n",
       "      <td>442</td>\n",
       "    </tr>\n",
       "    <tr>\n",
       "      <th>3</th>\n",
       "      <td>1503960366</td>\n",
       "      <td>4/16/2016 12:00:00 AM</td>\n",
       "      <td>2</td>\n",
       "      <td>340</td>\n",
       "      <td>367</td>\n",
       "    </tr>\n",
       "    <tr>\n",
       "      <th>4</th>\n",
       "      <td>1503960366</td>\n",
       "      <td>4/17/2016 12:00:00 AM</td>\n",
       "      <td>1</td>\n",
       "      <td>700</td>\n",
       "      <td>712</td>\n",
       "    </tr>\n",
       "  </tbody>\n",
       "</table>\n",
       "</div>"
      ],
      "text/plain": [
       "           Id               SleepDay  TotalSleepRecords  TotalMinutesAsleep  \\\n",
       "0  1503960366  4/12/2016 12:00:00 AM                  1                 327   \n",
       "1  1503960366  4/13/2016 12:00:00 AM                  2                 384   \n",
       "2  1503960366  4/15/2016 12:00:00 AM                  1                 412   \n",
       "3  1503960366  4/16/2016 12:00:00 AM                  2                 340   \n",
       "4  1503960366  4/17/2016 12:00:00 AM                  1                 700   \n",
       "\n",
       "   TotalTimeInBed  \n",
       "0             346  \n",
       "1             407  \n",
       "2             442  \n",
       "3             367  \n",
       "4             712  "
      ]
     },
     "execution_count": 38,
     "metadata": {},
     "output_type": "execute_result"
    }
   ],
   "source": [
    "sleepday_df.head()"
   ]
  },
  {
   "cell_type": "markdown",
   "id": "762abe61",
   "metadata": {},
   "source": [
    "We can observe that the date format is also not in standard. So, we perform the changing work same as above."
   ]
  },
  {
   "cell_type": "code",
   "execution_count": 39,
   "id": "fc004931",
   "metadata": {},
   "outputs": [
    {
     "name": "stdout",
     "output_type": "stream",
     "text": [
      "[['4/12/2016 12:00:00 AM', 1], ['4/13/2016 12:00:00 AM', 2], ['4/15/2016 12:00:00 AM', 3], ['4/16/2016 12:00:00 AM', 4], ['4/17/2016 12:00:00 AM', 5], ['4/19/2016 12:00:00 AM', 6], ['4/20/2016 12:00:00 AM', 7], ['4/21/2016 12:00:00 AM', 8], ['4/23/2016 12:00:00 AM', 9], ['4/24/2016 12:00:00 AM', 10]]\n"
     ]
    }
   ],
   "source": [
    "query = '''\n",
    "    SELECT\n",
    "        SleepDay, \n",
    "        ROWID\n",
    "    FROM\n",
    "        sleepDay_merged\n",
    "'''\n",
    "df = pd.read_sql(query, con)\n",
    "datetime_list = df.values.tolist()\n",
    "# Avoid to show all the result in list, just show the first 10 to check\n",
    "print(datetime_list[0:10])"
   ]
  },
  {
   "cell_type": "code",
   "execution_count": 40,
   "id": "1592c631",
   "metadata": {},
   "outputs": [],
   "source": [
    "def updated_datetime_format(datetime_list):\n",
    "    for i in range(len(datetime_list)):\n",
    "        d = datetime.datetime.strptime(datetime_list[i][0],\"%m/%d/%Y %H:%M:%S %p\")\n",
    "        datetime_list[i][0]=datetime.date.strftime(d,\"%Y-%m-%d\")\n",
    "    return datetime_list"
   ]
  },
  {
   "cell_type": "code",
   "execution_count": 41,
   "id": "5d6dbb38",
   "metadata": {
    "scrolled": true
   },
   "outputs": [
    {
     "name": "stdout",
     "output_type": "stream",
     "text": [
      "[['2016-04-12', 1], ['2016-04-13', 2], ['2016-04-15', 3], ['2016-04-16', 4], ['2016-04-17', 5], ['2016-04-19', 6], ['2016-04-20', 7], ['2016-04-21', 8], ['2016-04-23', 9], ['2016-04-24', 10]]\n"
     ]
    }
   ],
   "source": [
    "updated_datetime_list = updated_datetime_format(datetime_list)\n",
    "# Avoid to show all the result in list, just show the first 10 to check\n",
    "print(updated_datetime_list[0:10])"
   ]
  },
  {
   "cell_type": "code",
   "execution_count": 42,
   "id": "3a919ea9",
   "metadata": {},
   "outputs": [],
   "source": [
    "def update_sleepDay_SleepDay(record_list):\n",
    "    try:\n",
    "        sql_update_query='''\n",
    "            UPDATE \n",
    "                sleepDay_merged\n",
    "            SET \n",
    "                SleepDay = ?\n",
    "            WHERE \n",
    "                ROWID = ?\n",
    "        '''\n",
    "        cur.executemany(sql_update_query, record_list)\n",
    "        con.commit()\n",
    "        print(\"Total\", cur.rowcount, \"Records updated successfully\")\n",
    "    except sql.Error as error:\n",
    "        print(\"Failed to update multiple records of sqlite table\", error)"
   ]
  },
  {
   "cell_type": "code",
   "execution_count": 43,
   "id": "9dd47f20",
   "metadata": {},
   "outputs": [
    {
     "name": "stdout",
     "output_type": "stream",
     "text": [
      "Total 413 Records updated successfully\n"
     ]
    }
   ],
   "source": [
    "update_sleepDay_SleepDay(updated_datetime_list)"
   ]
  },
  {
   "cell_type": "code",
   "execution_count": 44,
   "id": "f100de3c",
   "metadata": {},
   "outputs": [
    {
     "data": {
      "text/html": [
       "<div>\n",
       "<style scoped>\n",
       "    .dataframe tbody tr th:only-of-type {\n",
       "        vertical-align: middle;\n",
       "    }\n",
       "\n",
       "    .dataframe tbody tr th {\n",
       "        vertical-align: top;\n",
       "    }\n",
       "\n",
       "    .dataframe thead th {\n",
       "        text-align: right;\n",
       "    }\n",
       "</style>\n",
       "<table border=\"1\" class=\"dataframe\">\n",
       "  <thead>\n",
       "    <tr style=\"text-align: right;\">\n",
       "      <th></th>\n",
       "      <th>Id</th>\n",
       "      <th>SleepDay</th>\n",
       "      <th>TotalSleepRecords</th>\n",
       "      <th>TotalMinutesAsleep</th>\n",
       "      <th>TotalTimeInBed</th>\n",
       "    </tr>\n",
       "  </thead>\n",
       "  <tbody>\n",
       "    <tr>\n",
       "      <th>0</th>\n",
       "      <td>1503960366</td>\n",
       "      <td>2016-04-12</td>\n",
       "      <td>1</td>\n",
       "      <td>327</td>\n",
       "      <td>346</td>\n",
       "    </tr>\n",
       "    <tr>\n",
       "      <th>1</th>\n",
       "      <td>1503960366</td>\n",
       "      <td>2016-04-13</td>\n",
       "      <td>2</td>\n",
       "      <td>384</td>\n",
       "      <td>407</td>\n",
       "    </tr>\n",
       "    <tr>\n",
       "      <th>2</th>\n",
       "      <td>1503960366</td>\n",
       "      <td>2016-04-15</td>\n",
       "      <td>1</td>\n",
       "      <td>412</td>\n",
       "      <td>442</td>\n",
       "    </tr>\n",
       "    <tr>\n",
       "      <th>3</th>\n",
       "      <td>1503960366</td>\n",
       "      <td>2016-04-16</td>\n",
       "      <td>2</td>\n",
       "      <td>340</td>\n",
       "      <td>367</td>\n",
       "    </tr>\n",
       "    <tr>\n",
       "      <th>4</th>\n",
       "      <td>1503960366</td>\n",
       "      <td>2016-04-17</td>\n",
       "      <td>1</td>\n",
       "      <td>700</td>\n",
       "      <td>712</td>\n",
       "    </tr>\n",
       "  </tbody>\n",
       "</table>\n",
       "</div>"
      ],
      "text/plain": [
       "           Id    SleepDay  TotalSleepRecords  TotalMinutesAsleep  \\\n",
       "0  1503960366  2016-04-12                  1                 327   \n",
       "1  1503960366  2016-04-13                  2                 384   \n",
       "2  1503960366  2016-04-15                  1                 412   \n",
       "3  1503960366  2016-04-16                  2                 340   \n",
       "4  1503960366  2016-04-17                  1                 700   \n",
       "\n",
       "   TotalTimeInBed  \n",
       "0             346  \n",
       "1             407  \n",
       "2             442  \n",
       "3             367  \n",
       "4             712  "
      ]
     },
     "execution_count": 44,
     "metadata": {},
     "output_type": "execute_result"
    }
   ],
   "source": [
    "query='''\n",
    "    SELECT \n",
    "        *\n",
    "    FROM \n",
    "        sleepDay_merged\n",
    "'''\n",
    "\n",
    "sleepday_df = pd.read_sql(query, con)\n",
    "sleepday_df.head()"
   ]
  },
  {
   "cell_type": "code",
   "execution_count": 45,
   "id": "944c7eb1",
   "metadata": {},
   "outputs": [
    {
     "data": {
      "text/html": [
       "<div>\n",
       "<style scoped>\n",
       "    .dataframe tbody tr th:only-of-type {\n",
       "        vertical-align: middle;\n",
       "    }\n",
       "\n",
       "    .dataframe tbody tr th {\n",
       "        vertical-align: top;\n",
       "    }\n",
       "\n",
       "    .dataframe thead th {\n",
       "        text-align: right;\n",
       "    }\n",
       "</style>\n",
       "<table border=\"1\" class=\"dataframe\">\n",
       "  <thead>\n",
       "    <tr style=\"text-align: right;\">\n",
       "      <th></th>\n",
       "      <th>Id</th>\n",
       "      <th>SleepDay</th>\n",
       "      <th>TotalSleepRecords</th>\n",
       "      <th>TotalMinutesAsleep</th>\n",
       "      <th>TotalTimeInBed</th>\n",
       "      <th>Day</th>\n",
       "      <th>Month</th>\n",
       "      <th>Year</th>\n",
       "      <th>Weekday</th>\n",
       "    </tr>\n",
       "  </thead>\n",
       "  <tbody>\n",
       "    <tr>\n",
       "      <th>0</th>\n",
       "      <td>1503960366</td>\n",
       "      <td>2016-04-12</td>\n",
       "      <td>1</td>\n",
       "      <td>327</td>\n",
       "      <td>346</td>\n",
       "      <td>12</td>\n",
       "      <td>04</td>\n",
       "      <td>2016</td>\n",
       "      <td>2</td>\n",
       "    </tr>\n",
       "    <tr>\n",
       "      <th>1</th>\n",
       "      <td>1503960366</td>\n",
       "      <td>2016-04-13</td>\n",
       "      <td>2</td>\n",
       "      <td>384</td>\n",
       "      <td>407</td>\n",
       "      <td>13</td>\n",
       "      <td>04</td>\n",
       "      <td>2016</td>\n",
       "      <td>3</td>\n",
       "    </tr>\n",
       "    <tr>\n",
       "      <th>2</th>\n",
       "      <td>1503960366</td>\n",
       "      <td>2016-04-15</td>\n",
       "      <td>1</td>\n",
       "      <td>412</td>\n",
       "      <td>442</td>\n",
       "      <td>15</td>\n",
       "      <td>04</td>\n",
       "      <td>2016</td>\n",
       "      <td>5</td>\n",
       "    </tr>\n",
       "    <tr>\n",
       "      <th>3</th>\n",
       "      <td>1503960366</td>\n",
       "      <td>2016-04-16</td>\n",
       "      <td>2</td>\n",
       "      <td>340</td>\n",
       "      <td>367</td>\n",
       "      <td>16</td>\n",
       "      <td>04</td>\n",
       "      <td>2016</td>\n",
       "      <td>6</td>\n",
       "    </tr>\n",
       "    <tr>\n",
       "      <th>4</th>\n",
       "      <td>1503960366</td>\n",
       "      <td>2016-04-17</td>\n",
       "      <td>1</td>\n",
       "      <td>700</td>\n",
       "      <td>712</td>\n",
       "      <td>17</td>\n",
       "      <td>04</td>\n",
       "      <td>2016</td>\n",
       "      <td>0</td>\n",
       "    </tr>\n",
       "  </tbody>\n",
       "</table>\n",
       "</div>"
      ],
      "text/plain": [
       "           Id    SleepDay  TotalSleepRecords  TotalMinutesAsleep  \\\n",
       "0  1503960366  2016-04-12                  1                 327   \n",
       "1  1503960366  2016-04-13                  2                 384   \n",
       "2  1503960366  2016-04-15                  1                 412   \n",
       "3  1503960366  2016-04-16                  2                 340   \n",
       "4  1503960366  2016-04-17                  1                 700   \n",
       "\n",
       "   TotalTimeInBed Day Month  Year Weekday  \n",
       "0             346  12    04  2016       2  \n",
       "1             407  13    04  2016       3  \n",
       "2             442  15    04  2016       5  \n",
       "3             367  16    04  2016       6  \n",
       "4             712  17    04  2016       0  "
      ]
     },
     "execution_count": 45,
     "metadata": {},
     "output_type": "execute_result"
    }
   ],
   "source": [
    "query = \"\"\"\n",
    "SELECT\n",
    "    *,\n",
    "    STRFTIME('%d',SleepDay) AS Day,\n",
    "    STRFTIME('%m',SleepDay) AS Month,\n",
    "    STRFTIME('%Y',SleepDay) AS Year,\n",
    "    STRFTIME('%w',SleepDay) AS Weekday\n",
    "FROM sleepDay_merged;\n",
    "\"\"\"\n",
    "\n",
    "cleaned_sleepday_df = pd.read_sql(query, con)\n",
    "cleaned_sleepday_df.head()"
   ]
  },
  {
   "cell_type": "markdown",
   "id": "019a447c",
   "metadata": {},
   "source": [
    "After changing the date, we check if there is `Null` or `NA` row and any 0 values for the sleep data as follow."
   ]
  },
  {
   "cell_type": "code",
   "execution_count": 46,
   "id": "77fba4eb",
   "metadata": {
    "scrolled": true
   },
   "outputs": [
    {
     "data": {
      "text/plain": [
       "0"
      ]
     },
     "execution_count": 46,
     "metadata": {},
     "output_type": "execute_result"
    }
   ],
   "source": [
    "len(df[cleaned_sleepday_df.isnull().any(axis=1)])"
   ]
  },
  {
   "cell_type": "code",
   "execution_count": 47,
   "id": "2b466ff1",
   "metadata": {},
   "outputs": [
    {
     "data": {
      "text/plain": [
       "0"
      ]
     },
     "execution_count": 47,
     "metadata": {},
     "output_type": "execute_result"
    }
   ],
   "source": [
    "query='''\n",
    "    SELECT \n",
    "        *\n",
    "    FROM \n",
    "        sleepDay_merged\n",
    "    WHERE\n",
    "        TotalSleepRecords = 0 OR TotalMinutesAsleep = 0 OR TotalTimeInBed = 0\n",
    "'''\n",
    "\n",
    "df = pd.read_sql(query, con)\n",
    "len(df)"
   ]
  },
  {
   "cell_type": "markdown",
   "id": "7276f16e",
   "metadata": {},
   "source": [
    "Finally we finish the data clearing and data manipulation process."
   ]
  },
  {
   "cell_type": "markdown",
   "id": "ad89eb79",
   "metadata": {},
   "source": [
    "# Analyze"
   ]
  },
  {
   "cell_type": "markdown",
   "id": "2463b000",
   "metadata": {},
   "source": [
    "Now we can start to analyze the data. We try to get the total number of users and average data from the `dailyActivity_merged` and `sleep_merged` table."
   ]
  },
  {
   "cell_type": "code",
   "execution_count": 48,
   "id": "9df3c678",
   "metadata": {},
   "outputs": [
    {
     "data": {
      "text/html": [
       "<div>\n",
       "<style scoped>\n",
       "    .dataframe tbody tr th:only-of-type {\n",
       "        vertical-align: middle;\n",
       "    }\n",
       "\n",
       "    .dataframe tbody tr th {\n",
       "        vertical-align: top;\n",
       "    }\n",
       "\n",
       "    .dataframe thead th {\n",
       "        text-align: right;\n",
       "    }\n",
       "</style>\n",
       "<table border=\"1\" class=\"dataframe\">\n",
       "  <thead>\n",
       "    <tr style=\"text-align: right;\">\n",
       "      <th></th>\n",
       "      <th>Number_of_Users</th>\n",
       "      <th>Avg_steps</th>\n",
       "      <th>Avg_distance</th>\n",
       "      <th>Avg_very_active_distance</th>\n",
       "      <th>Avg_very_active_mins</th>\n",
       "      <th>Avg_Sedentary_hours</th>\n",
       "      <th>Avg_calories</th>\n",
       "    </tr>\n",
       "  </thead>\n",
       "  <tbody>\n",
       "    <tr>\n",
       "      <th>0</th>\n",
       "      <td>33</td>\n",
       "      <td>7670.55</td>\n",
       "      <td>5.51</td>\n",
       "      <td>1.51</td>\n",
       "      <td>21.26</td>\n",
       "      <td>989.29</td>\n",
       "      <td>2313.45</td>\n",
       "    </tr>\n",
       "  </tbody>\n",
       "</table>\n",
       "</div>"
      ],
      "text/plain": [
       "   Number_of_Users  Avg_steps  Avg_distance  Avg_very_active_distance  \\\n",
       "0               33    7670.55          5.51                      1.51   \n",
       "\n",
       "   Avg_very_active_mins  Avg_Sedentary_hours  Avg_calories  \n",
       "0                 21.26               989.29       2313.45  "
      ]
     },
     "execution_count": 48,
     "metadata": {},
     "output_type": "execute_result"
    }
   ],
   "source": [
    "query = '''\n",
    "    SELECT\n",
    "        COUNT(DISTINCT Id) AS Number_of_Users,\n",
    "        ROUND(AVG(TotalSteps),2) AS Avg_steps,\n",
    "        ROUND(AVG(TotalDistance),2) AS Avg_distance,\n",
    "        ROUND(AVG(VeryActiveDistance),2) AS Avg_very_active_distance,\n",
    "        ROUND(AVG(VeryActiveMinutes),2) AS Avg_very_active_mins,\n",
    "        ROUND(AVG(SedentaryMinutes),2) AS Avg_Sedentary_hours,\n",
    "        ROUND(AVG(Calories),2) AS Avg_calories\n",
    "    FROM\n",
    "        dailyActivity_merged;\n",
    "'''\n",
    "\n",
    "pd.read_sql(query, con)"
   ]
  },
  {
   "cell_type": "markdown",
   "id": "111f8b1b",
   "metadata": {},
   "source": [
    "We can observe that there are totally 33 differenct users in this data. The average daily total steps are 7670 with average daily distance 5.51km. The very active minutes are 21.26 minutes only compare with 16 average sedentary hours."
   ]
  },
  {
   "cell_type": "code",
   "execution_count": 49,
   "id": "96e9db87",
   "metadata": {},
   "outputs": [
    {
     "data": {
      "text/html": [
       "<div>\n",
       "<style scoped>\n",
       "    .dataframe tbody tr th:only-of-type {\n",
       "        vertical-align: middle;\n",
       "    }\n",
       "\n",
       "    .dataframe tbody tr th {\n",
       "        vertical-align: top;\n",
       "    }\n",
       "\n",
       "    .dataframe thead th {\n",
       "        text-align: right;\n",
       "    }\n",
       "</style>\n",
       "<table border=\"1\" class=\"dataframe\">\n",
       "  <thead>\n",
       "    <tr style=\"text-align: right;\">\n",
       "      <th></th>\n",
       "      <th>Number_of_Users</th>\n",
       "      <th>Avg_sleep_hours</th>\n",
       "      <th>Avg_time_in_bed</th>\n",
       "      <th>Avg_time_awaken_in_bed_mins</th>\n",
       "    </tr>\n",
       "  </thead>\n",
       "  <tbody>\n",
       "    <tr>\n",
       "      <th>0</th>\n",
       "      <td>24</td>\n",
       "      <td>6.48</td>\n",
       "      <td>7.2</td>\n",
       "      <td>39.17</td>\n",
       "    </tr>\n",
       "  </tbody>\n",
       "</table>\n",
       "</div>"
      ],
      "text/plain": [
       "   Number_of_Users  Avg_sleep_hours  Avg_time_in_bed  \\\n",
       "0               24             6.48              7.2   \n",
       "\n",
       "   Avg_time_awaken_in_bed_mins  \n",
       "0                        39.17  "
      ]
     },
     "execution_count": 49,
     "metadata": {},
     "output_type": "execute_result"
    }
   ],
   "source": [
    "query = '''\n",
    "    SELECT\n",
    "        COUNT(DISTINCT ID) AS Number_of_Users,\n",
    "        ROUND(AVG(TotalMinutesAsleep/60),2) AS Avg_sleep_hours,\n",
    "        ROUND(AVG(TotalTimeinBed/60),2) AS Avg_time_in_bed,\n",
    "        ROUND(AVG(TotalTimeinBed-TotalMinutesAsleep),2) AS Avg_time_awaken_in_bed_mins\n",
    "    FROM\n",
    "        sleepDay_merged;\n",
    "'''\n",
    "\n",
    "pd.read_sql(query, con)"
   ]
  },
  {
   "cell_type": "markdown",
   "id": "26fa3f6b",
   "metadata": {},
   "source": [
    "For the sleep data table, 24 different users take their log here. The average sleep time is 6.48 hours and the average awaken time in bed is around 40 minutes."
   ]
  },
  {
   "cell_type": "markdown",
   "id": "7d3873ee",
   "metadata": {},
   "source": [
    "We also get average data according to weekday from `dailyActivity_merged` and `sleepDay_merged`as below:"
   ]
  },
  {
   "cell_type": "code",
   "execution_count": 50,
   "id": "6b85e555",
   "metadata": {},
   "outputs": [
    {
     "data": {
      "text/html": [
       "<div>\n",
       "<style scoped>\n",
       "    .dataframe tbody tr th:only-of-type {\n",
       "        vertical-align: middle;\n",
       "    }\n",
       "\n",
       "    .dataframe tbody tr th {\n",
       "        vertical-align: top;\n",
       "    }\n",
       "\n",
       "    .dataframe thead th {\n",
       "        text-align: right;\n",
       "    }\n",
       "</style>\n",
       "<table border=\"1\" class=\"dataframe\">\n",
       "  <thead>\n",
       "    <tr style=\"text-align: right;\">\n",
       "      <th></th>\n",
       "      <th>weekday</th>\n",
       "      <th>avg_steps</th>\n",
       "      <th>avg_distance</th>\n",
       "      <th>avg_calories</th>\n",
       "      <th>avg_very_active_mins</th>\n",
       "    </tr>\n",
       "  </thead>\n",
       "  <tbody>\n",
       "    <tr>\n",
       "      <th>0</th>\n",
       "      <td>0</td>\n",
       "      <td>6933.23</td>\n",
       "      <td>5.03</td>\n",
       "      <td>2263.00</td>\n",
       "      <td>19.98</td>\n",
       "    </tr>\n",
       "    <tr>\n",
       "      <th>1</th>\n",
       "      <td>1</td>\n",
       "      <td>7780.87</td>\n",
       "      <td>5.55</td>\n",
       "      <td>2324.21</td>\n",
       "      <td>23.11</td>\n",
       "    </tr>\n",
       "    <tr>\n",
       "      <th>2</th>\n",
       "      <td>2</td>\n",
       "      <td>8178.81</td>\n",
       "      <td>5.87</td>\n",
       "      <td>2371.62</td>\n",
       "      <td>23.11</td>\n",
       "    </tr>\n",
       "    <tr>\n",
       "      <th>3</th>\n",
       "      <td>3</td>\n",
       "      <td>7559.37</td>\n",
       "      <td>5.49</td>\n",
       "      <td>2302.62</td>\n",
       "      <td>20.78</td>\n",
       "    </tr>\n",
       "    <tr>\n",
       "      <th>4</th>\n",
       "      <td>4</td>\n",
       "      <td>7507.99</td>\n",
       "      <td>5.39</td>\n",
       "      <td>2229.91</td>\n",
       "      <td>19.68</td>\n",
       "    </tr>\n",
       "    <tr>\n",
       "      <th>5</th>\n",
       "      <td>5</td>\n",
       "      <td>7448.23</td>\n",
       "      <td>5.31</td>\n",
       "      <td>2331.79</td>\n",
       "      <td>20.06</td>\n",
       "    </tr>\n",
       "    <tr>\n",
       "      <th>6</th>\n",
       "      <td>6</td>\n",
       "      <td>8219.26</td>\n",
       "      <td>5.90</td>\n",
       "      <td>2374.11</td>\n",
       "      <td>22.10</td>\n",
       "    </tr>\n",
       "  </tbody>\n",
       "</table>\n",
       "</div>"
      ],
      "text/plain": [
       "  weekday  avg_steps  avg_distance  avg_calories  avg_very_active_mins\n",
       "0       0    6933.23          5.03       2263.00                 19.98\n",
       "1       1    7780.87          5.55       2324.21                 23.11\n",
       "2       2    8178.81          5.87       2371.62                 23.11\n",
       "3       3    7559.37          5.49       2302.62                 20.78\n",
       "4       4    7507.99          5.39       2229.91                 19.68\n",
       "5       5    7448.23          5.31       2331.79                 20.06\n",
       "6       6    8219.26          5.90       2374.11                 22.10"
      ]
     },
     "execution_count": 50,
     "metadata": {},
     "output_type": "execute_result"
    }
   ],
   "source": [
    "query = \"\"\"\n",
    "    SELECT \n",
    "        STRFTIME('%w', ActivityDay) AS weekday,\n",
    "        ROUND(AVG(TotalSteps),2) AS avg_steps,\n",
    "        ROUND(AVG(TotalDistance),2) AS avg_distance,\n",
    "        ROUND(AVG(Calories),2) AS avg_calories,\n",
    "        ROUND(AVG(VeryActiveMinutes),2) AS avg_very_active_mins\n",
    "    FROM \n",
    "        dailyActivity_merged\n",
    "    GROUP BY \n",
    "        STRFTIME('%w', ActivityDay);\n",
    "\"\"\"\n",
    "\n",
    "avg_activity = pd.read_sql(query, con)\n",
    "avg_activity"
   ]
  },
  {
   "cell_type": "code",
   "execution_count": 51,
   "id": "b5c9125d",
   "metadata": {},
   "outputs": [
    {
     "data": {
      "text/html": [
       "<div>\n",
       "<style scoped>\n",
       "    .dataframe tbody tr th:only-of-type {\n",
       "        vertical-align: middle;\n",
       "    }\n",
       "\n",
       "    .dataframe tbody tr th {\n",
       "        vertical-align: top;\n",
       "    }\n",
       "\n",
       "    .dataframe thead th {\n",
       "        text-align: right;\n",
       "    }\n",
       "</style>\n",
       "<table border=\"1\" class=\"dataframe\">\n",
       "  <thead>\n",
       "    <tr style=\"text-align: right;\">\n",
       "      <th></th>\n",
       "      <th>weekday</th>\n",
       "      <th>Avg_sleep_hours</th>\n",
       "      <th>Avg_time_in_bed</th>\n",
       "      <th>Avg_time_awaken_in_bed</th>\n",
       "    </tr>\n",
       "  </thead>\n",
       "  <tbody>\n",
       "    <tr>\n",
       "      <th>0</th>\n",
       "      <td>0</td>\n",
       "      <td>452.75</td>\n",
       "      <td>503.51</td>\n",
       "      <td>50.76</td>\n",
       "    </tr>\n",
       "    <tr>\n",
       "      <th>1</th>\n",
       "      <td>1</td>\n",
       "      <td>418.83</td>\n",
       "      <td>456.17</td>\n",
       "      <td>37.34</td>\n",
       "    </tr>\n",
       "    <tr>\n",
       "      <th>2</th>\n",
       "      <td>2</td>\n",
       "      <td>404.54</td>\n",
       "      <td>443.29</td>\n",
       "      <td>38.75</td>\n",
       "    </tr>\n",
       "    <tr>\n",
       "      <th>3</th>\n",
       "      <td>3</td>\n",
       "      <td>434.68</td>\n",
       "      <td>470.03</td>\n",
       "      <td>35.35</td>\n",
       "    </tr>\n",
       "    <tr>\n",
       "      <th>4</th>\n",
       "      <td>4</td>\n",
       "      <td>402.37</td>\n",
       "      <td>435.80</td>\n",
       "      <td>33.43</td>\n",
       "    </tr>\n",
       "    <tr>\n",
       "      <th>5</th>\n",
       "      <td>5</td>\n",
       "      <td>405.42</td>\n",
       "      <td>445.05</td>\n",
       "      <td>39.63</td>\n",
       "    </tr>\n",
       "    <tr>\n",
       "      <th>6</th>\n",
       "      <td>6</td>\n",
       "      <td>420.81</td>\n",
       "      <td>461.28</td>\n",
       "      <td>40.47</td>\n",
       "    </tr>\n",
       "  </tbody>\n",
       "</table>\n",
       "</div>"
      ],
      "text/plain": [
       "  weekday  Avg_sleep_hours  Avg_time_in_bed  Avg_time_awaken_in_bed\n",
       "0       0           452.75           503.51                   50.76\n",
       "1       1           418.83           456.17                   37.34\n",
       "2       2           404.54           443.29                   38.75\n",
       "3       3           434.68           470.03                   35.35\n",
       "4       4           402.37           435.80                   33.43\n",
       "5       5           405.42           445.05                   39.63\n",
       "6       6           420.81           461.28                   40.47"
      ]
     },
     "execution_count": 51,
     "metadata": {},
     "output_type": "execute_result"
    }
   ],
   "source": [
    "query = \"\"\"\n",
    "    SELECT \n",
    "        STRFTIME('%w', SleepDay) AS weekday,\n",
    "        ROUND(AVG(TotalMinutesAsleep),2) AS Avg_sleep_hours,\n",
    "        ROUND(AVG(TotalTimeinBed),2) AS Avg_time_in_bed,\n",
    "        ROUND(AVG(TotalTimeinBed-TotalMinutesAsleep),2) AS Avg_time_awaken_in_bed\n",
    "    FROM \n",
    "        sleepDay_merged\n",
    "    GROUP BY \n",
    "        STRFTIME('%w', SleepDay);\n",
    "\"\"\"\n",
    "\n",
    "avg_sleep = pd.read_sql(query, con)\n",
    "avg_sleep"
   ]
  },
  {
   "cell_type": "markdown",
   "id": "07d932a2",
   "metadata": {},
   "source": [
    "We perform some data visualization to perform the analysis process below"
   ]
  },
  {
   "cell_type": "markdown",
   "id": "532cb1b6",
   "metadata": {},
   "source": [
    "### Visualizations for Daily Activity"
   ]
  },
  {
   "cell_type": "markdown",
   "id": "88e0a90e",
   "metadata": {},
   "source": [
    "In order to share the result of the plot in a better way, we make a color_map funciton to assign the color map for the histogram graph as below:"
   ]
  },
  {
   "cell_type": "code",
   "execution_count": 52,
   "id": "b17f3b13",
   "metadata": {},
   "outputs": [],
   "source": [
    "# type standard for colormaps type name\n",
    "# ratio stand for ratio diveded for adjustment to avoid unvisible color\n",
    "# reverse: True for reverse colormap\n",
    "def color_map(type, ratio, reverse):\n",
    "    cmp = plt.cm.get_cmap(type)\n",
    "    bin_centers = 0.5 * (bins[:-1] + bins[1:])\n",
    "    col = bin_centers - min(bin_centers)\n",
    "    col /= max(col)\n",
    "    if reverse == True:\n",
    "        col = 1- (col/ratio)\n",
    "    else:\n",
    "        col = col/ratio\n",
    "    for c, p in zip(col, patches):\n",
    "        plt.setp(p, 'facecolor', cmp(c)) "
   ]
  },
  {
   "cell_type": "markdown",
   "id": "66f688aa",
   "metadata": {},
   "source": [
    "We then plot the follow four bar chart to observe the pattern of activity according to weekdays:\n",
    "* Average Steps\n",
    "* Average Distance\n",
    "* Average Calories\n",
    "* Average Very Active Minutes"
   ]
  },
  {
   "cell_type": "code",
   "execution_count": 53,
   "id": "2815e828",
   "metadata": {
    "scrolled": false
   },
   "outputs": [
    {
     "data": {
      "image/png": "[encoded data removed]",
      "text/plain": [
       "<Figure size 1152x720 with 4 Axes>"
      ]
     },
     "metadata": {
      "needs_background": "light"
     },
     "output_type": "display_data"
    }
   ],
   "source": [
    "weekday = [\"Sunday\", \"Monday\", \"Tuesday\", \"Wednesday\", \"Thursday\", \"Friday\", \"Saturday\"]\n",
    "\n",
    "plt.figure(figsize = (16,10))\n",
    "\n",
    "plt.subplot(221)\n",
    "plt.bar(weekday, avg_activity.avg_steps, align='center',alpha=0.5, color = 'royalblue')\n",
    "plt.tight_layout\n",
    "plt.ylabel('Average Steps')\n",
    "\n",
    "plt.subplot(222)\n",
    "plt.bar(weekday, avg_activity.avg_distance, align='center',alpha=0.5, color = 'green')\n",
    "plt.tight_layout\n",
    "plt.ylabel('Average Distance(km)')\n",
    "\n",
    "plt.subplot(223)\n",
    "plt.bar(weekday, avg_activity.avg_calories, align='center',alpha=0.5, color = 'lightsalmon')\n",
    "plt.tight_layout\n",
    "plt.ylabel('Average Calories')\n",
    "\n",
    "plt.subplot(224)\n",
    "plt.bar(weekday, avg_activity.avg_very_active_mins, align='center',alpha=0.5, color = 'purple')\n",
    "plt.tight_layout\n",
    "plt.ylabel('Average Very Active Minutes')\n",
    "\n",
    "plt.suptitle('Distribtuion of average activity data according to weekdays')\n",
    "plt.show()"
   ]
  },
  {
   "cell_type": "markdown",
   "id": "414b43b7",
   "metadata": {},
   "source": [
    "We can observe that all the data in Saturday had the highest value. "
   ]
  },
  {
   "cell_type": "markdown",
   "id": "36be4b9f",
   "metadata": {},
   "source": [
    "We can plot scatter plot with a curved trend line to observe the relationship between **Calories** and the activities."
   ]
  },
  {
   "cell_type": "markdown",
   "id": "1304fb41",
   "metadata": {},
   "source": [
    "As we don't know the exact relationship between the datas, we decieded to build a function with polynomial equation to present the curved trend line. Then we use the `curve_fit` funciton in `scipy.optimize`library to plot the curved line."
   ]
  },
  {
   "cell_type": "code",
   "execution_count": 54,
   "id": "3ab8a9d3",
   "metadata": {},
   "outputs": [],
   "source": [
    "def function(x, a, b, c, d, e):\n",
    "    return a + (b * x) + (c * x**2) + (d * x**3) + (e * x**4)"
   ]
  },
  {
   "cell_type": "code",
   "execution_count": 55,
   "id": "b9c0f567",
   "metadata": {
    "scrolled": false
   },
   "outputs": [
    {
     "name": "stdout",
     "output_type": "stream",
     "text": [
      "y = 1651.149 + 0.121 x + -0.000 x^2 + 0.000x^3 + -0.000x^4\n"
     ]
    },
    {
     "data": {
      "image/png": "[encoded data removed]",
      "text/plain": [
       "<Figure size 720x576 with 1 Axes>"
      ]
     },
     "metadata": {
      "needs_background": "light"
     },
     "output_type": "display_data"
    }
   ],
   "source": [
    "x = cleaned_dailyActivity_df.TotalSteps\n",
    "y = cleaned_dailyActivity_df.Calories\n",
    "\n",
    "plt.figure(figsize = (10,8))\n",
    "plt.scatter(x, y, marker='.', color ='royalblue')\n",
    "\n",
    "popt, pcov = curve_fit(function, x, y)\n",
    "a, b, c, d, e = popt\n",
    "print (\"y = %.3f + %.3f x + %.3f x^2 + %.3fx^3 + %.3fx^4\" % (a, b, c, d, e))\n",
    "x_line = arange(min(x), max(x), 1)\n",
    "y_line = function(x_line, a, b, c, d, e)\n",
    "plt.plot(x_line, y_line, color='red')\n",
    "\n",
    "plt.xlim(0,38000)\n",
    "plt.ylim(0,5000)\n",
    "plt.xlabel(\"Total Steps\")\n",
    "plt.ylabel(\"Calories\")\n",
    "plt.title(\"Calories VS Total Steps\")\n",
    "plt.grid()"
   ]
  },
  {
   "cell_type": "markdown",
   "id": "c10d8529",
   "metadata": {},
   "source": [
    "From the scatter plot, trendline and above equations, we can conclude that the relationship between **Calories** and **Total Steps** are linear."
   ]
  },
  {
   "cell_type": "markdown",
   "id": "bc1689ed",
   "metadata": {},
   "source": [
    "We then also plot a histogram to show the distribution of total steps per day."
   ]
  },
  {
   "cell_type": "code",
   "execution_count": 56,
   "id": "726ac359",
   "metadata": {},
   "outputs": [
    {
     "data": {
      "image/png": "[encoded data removed]",
      "text/plain": [
       "<Figure size 720x576 with 1 Axes>"
      ]
     },
     "metadata": {
      "needs_background": "light"
     },
     "output_type": "display_data"
    }
   ],
   "source": [
    "x = cleaned_dailyActivity_df.TotalSteps\n",
    "bins = np.linspace(0, 38000, 38)\n",
    "\n",
    "plt.figure(figsize = (10,8))\n",
    "n, bins, patches = plt.hist(x, bins, align='mid', rwidth=0.8, color = 'royalblue')\n",
    "\n",
    "color_map('Blues',2, True)\n",
    "\n",
    "plt.xlim(0,38000)\n",
    "plt.ylim(0,120)\n",
    "plt.xlabel(\"Total Steps\")\n",
    "plt.ylabel(\"Counts\")\n",
    "plt.title('Distribution of Total Steps per day')\n",
    "plt.show()"
   ]
  },
  {
   "cell_type": "markdown",
   "id": "5bc0ed39",
   "metadata": {},
   "source": [
    "Most of the total steps are between 5000 to 10000 and we can observe a obvious drop after 10000 total steps."
   ]
  },
  {
   "cell_type": "markdown",
   "id": "b6c5f990",
   "metadata": {},
   "source": [
    "Then we also find out the distribution of average total steps for the 33 differenct users and plot a histogram for that."
   ]
  },
  {
   "cell_type": "code",
   "execution_count": 57,
   "id": "57e0b2db",
   "metadata": {},
   "outputs": [
    {
     "data": {
      "text/html": [
       "<div>\n",
       "<style scoped>\n",
       "    .dataframe tbody tr th:only-of-type {\n",
       "        vertical-align: middle;\n",
       "    }\n",
       "\n",
       "    .dataframe tbody tr th {\n",
       "        vertical-align: top;\n",
       "    }\n",
       "\n",
       "    .dataframe thead th {\n",
       "        text-align: right;\n",
       "    }\n",
       "</style>\n",
       "<table border=\"1\" class=\"dataframe\">\n",
       "  <thead>\n",
       "    <tr style=\"text-align: right;\">\n",
       "      <th></th>\n",
       "      <th>Id</th>\n",
       "      <th>Avg_total_steps</th>\n",
       "    </tr>\n",
       "  </thead>\n",
       "  <tbody>\n",
       "    <tr>\n",
       "      <th>0</th>\n",
       "      <td>8877689391</td>\n",
       "      <td>16040.03</td>\n",
       "    </tr>\n",
       "    <tr>\n",
       "      <th>1</th>\n",
       "      <td>8053475328</td>\n",
       "      <td>14763.29</td>\n",
       "    </tr>\n",
       "    <tr>\n",
       "      <th>2</th>\n",
       "      <td>1503960366</td>\n",
       "      <td>12520.63</td>\n",
       "    </tr>\n",
       "    <tr>\n",
       "      <th>3</th>\n",
       "      <td>2022484408</td>\n",
       "      <td>11370.65</td>\n",
       "    </tr>\n",
       "    <tr>\n",
       "      <th>4</th>\n",
       "      <td>7007744171</td>\n",
       "      <td>11323.42</td>\n",
       "    </tr>\n",
       "  </tbody>\n",
       "</table>\n",
       "</div>"
      ],
      "text/plain": [
       "           Id  Avg_total_steps\n",
       "0  8877689391         16040.03\n",
       "1  8053475328         14763.29\n",
       "2  1503960366         12520.63\n",
       "3  2022484408         11370.65\n",
       "4  7007744171         11323.42"
      ]
     },
     "execution_count": 57,
     "metadata": {},
     "output_type": "execute_result"
    }
   ],
   "source": [
    "query = '''\n",
    "    SELECT\n",
    "        DISTINCT Id,\n",
    "        ROUND(AVG(TotalSteps),2) AS Avg_total_steps\n",
    "    FROM\n",
    "        dailyActivity_Merged\n",
    "    GROUP BY\n",
    "        Id\n",
    "    ORDER BY\n",
    "        Avg_total_steps DESC;\n",
    "'''\n",
    "\n",
    "avg_total_steps = pd.read_sql(query, con)\n",
    "avg_total_steps.head()"
   ]
  },
  {
   "cell_type": "code",
   "execution_count": 58,
   "id": "55793748",
   "metadata": {},
   "outputs": [
    {
     "data": {
      "image/png": "[encoded data removed]",
      "text/plain": [
       "<Figure size 720x576 with 1 Axes>"
      ]
     },
     "metadata": {
      "needs_background": "light"
     },
     "output_type": "display_data"
    }
   ],
   "source": [
    "x = list(map(str, avg_total_steps.Id))\n",
    "y = avg_total_steps.Avg_total_steps\n",
    "thresold1 = 4000\n",
    "thresold2 = 8000\n",
    "thresold3 = 12000\n",
    "\n",
    "cmap=cm.get_cmap('rainbow')\n",
    "colors=[]\n",
    "for i in x:\n",
    "    colors.append(cmap(x.index(i)/len(x)/1.5))\n",
    "\n",
    "plt.figure(figsize = (10,8))\n",
    "plt.bar(x, y, color=colors)\n",
    "plt.axhline(thresold1, color = 'orange', ls='--')\n",
    "plt.axhline(thresold2, color = 'red', ls='--')\n",
    "plt.axhline(thresold3, color = 'brown', ls='--')\n",
    "\n",
    "plt.xticks(rotation = 75)\n",
    "plt.ylabel('Average Total Steps')\n",
    "plt.title('Averagae Total Sleep Steps according to Id number')\n",
    "plt.show()"
   ]
  },
  {
   "cell_type": "markdown",
   "id": "9aa710ad",
   "metadata": {},
   "source": [
    "According to __[\"Higher Daily Step Count Linked with Lower All-cause Mortality\"](https://www.cdc.gov/media/releases/2020/p0324-daily-step-count.html)__ released on 2020 by **Centers of Disease Control and Prevention (CDC)**, *\"compared with taking 4,000 steps per day, a number considered to be low for adults, taking 8,000 steps per day was associated with a 51% lower risk for all-cause mortality (or death from all causes). Taking 12,000 steps per day was associated with a 65% lower risk compared with taking 4,000 steps.\"* Therefore, we set three thresold lines at 4000, 8000 and 12000 steps above. However, we just consider 4000 and 8000 total steps situation."
   ]
  },
  {
   "cell_type": "markdown",
   "id": "0886e58a",
   "metadata": {},
   "source": [
    "The above histogram shows that only 14 users have average total steps higher than 8000. 13 users have average total steps between 4000-8000 and 6 users have lower then 4000."
   ]
  },
  {
   "cell_type": "markdown",
   "id": "ccc4e62b",
   "metadata": {},
   "source": [
    "After looking at the total steps, we also plot the two scatter plot below:\n",
    "* **Calories** agains **Very Active Minutes**\n",
    "* **Calories** agains **Total Distance**"
   ]
  },
  {
   "cell_type": "code",
   "execution_count": 59,
   "id": "ca6efa41",
   "metadata": {},
   "outputs": [
    {
     "name": "stdout",
     "output_type": "stream",
     "text": [
      "y = 2033.765 + 14.900 x + -0.129 x^2 + 0.002x^3 + -0.000x^4\n"
     ]
    },
    {
     "data": {
      "image/png": "[encoded data removed]",
      "text/plain": [
       "<Figure size 720x576 with 1 Axes>"
      ]
     },
     "metadata": {
      "needs_background": "light"
     },
     "output_type": "display_data"
    }
   ],
   "source": [
    "x = cleaned_dailyActivity_df.VeryActiveMinutes \n",
    "y = cleaned_dailyActivity_df.Calories\n",
    "\n",
    "plt.figure(figsize = (10,8))\n",
    "plt.scatter(x, y, marker='.', color ='purple')\n",
    "\n",
    "popt, pcov = curve_fit(function, x, y)\n",
    "a, b, c, d, e = popt\n",
    "print (\"y = %.3f + %.3f x + %.3f x^2 + %.3fx^3 + %.3fx^4\" % (a, b, c, d, e))\n",
    "x_line = arange(min(x), max(x), 1)\n",
    "y_line = function(x_line, a, b, c, d, e)\n",
    "plt.plot(x_line, y_line, color='red')\n",
    "\n",
    "plt.xlim(0,225)\n",
    "plt.ylim(0,5000)\n",
    "plt.xlabel(\"Very Active Minutes (Mins)\")\n",
    "plt.ylabel(\"Calories\")\n",
    "plt.title(\"Calories VS Very Active Minutes\")\n",
    "plt.grid()"
   ]
  },
  {
   "cell_type": "markdown",
   "id": "b98ef939",
   "metadata": {},
   "source": [
    "From the scatter plot, trendline and above equations, we can conclude that the relationship between **Calories** and **Very Active Minutes** are nearly linear."
   ]
  },
  {
   "cell_type": "code",
   "execution_count": 60,
   "id": "ce926424",
   "metadata": {},
   "outputs": [
    {
     "name": "stdout",
     "output_type": "stream",
     "text": [
      "y = 1672.178 + 101.969 x + 2.682 x^2 + -0.041x^3 + -0.004x^4\n"
     ]
    },
    {
     "data": {
      "image/png": "[encoded data removed]",
      "text/plain": [
       "<Figure size 720x576 with 1 Axes>"
      ]
     },
     "metadata": {
      "needs_background": "light"
     },
     "output_type": "display_data"
    }
   ],
   "source": [
    "x = cleaned_dailyActivity_df.TotalDistance\n",
    "y = cleaned_dailyActivity_df.Calories\n",
    "\n",
    "plt.figure(figsize = (10,8))\n",
    "plt.scatter(x, y, marker='.', color ='green')\n",
    "\n",
    "popt, pcov = curve_fit(function, x, y)\n",
    "a, b, c, d, e = popt\n",
    "print (\"y = %.3f + %.3f x + %.3f x^2 + %.3fx^3 + %.3fx^4\" % (a, b, c, d, e))\n",
    "x_line = arange(min(x), max(x), 1)\n",
    "y_line = function(x_line, a, b, c, d, e)\n",
    "plt.plot(x_line, y_line, color='red')\n",
    "\n",
    "plt.xlim(0,30)\n",
    "plt.ylim(0,5000)\n",
    "plt.xlabel(\"Total Distance (km)\")\n",
    "plt.ylabel(\"Calories\")\n",
    "plt.title(\"Calories VS Total Distance\")\n",
    "plt.grid()"
   ]
  },
  {
   "cell_type": "markdown",
   "id": "c7f76830",
   "metadata": {},
   "source": [
    "From the scatter plot, trendline and above equations, we can conclude that the relationship between **Calories** and **Total Distance** are nearly linear."
   ]
  },
  {
   "cell_type": "markdown",
   "id": "b218b5a1",
   "metadata": {},
   "source": [
    "We then also plot a histogram to show the distribution of total distance per day."
   ]
  },
  {
   "cell_type": "code",
   "execution_count": 61,
   "id": "0be69ab2",
   "metadata": {},
   "outputs": [
    {
     "data": {
      "image/png": "[encoded data removed]",
      "text/plain": [
       "<Figure size 720x576 with 1 Axes>"
      ]
     },
     "metadata": {
      "needs_background": "light"
     },
     "output_type": "display_data"
    }
   ],
   "source": [
    "x = cleaned_dailyActivity_df.TotalDistance\n",
    "bins = np.linspace(0, 30, 30)\n",
    "\n",
    "plt.figure(figsize = (10,8))\n",
    "n, bins, patches = plt.hist(x, bins, align='mid', rwidth=0.8, color = 'green')\n",
    "\n",
    "color_map('BuGn', 2, True)\n",
    "\n",
    "plt.xlim(0,30)\n",
    "plt.ylim(0,130)\n",
    "plt.xlabel(\"Total Distance (km)\")\n",
    "plt.ylabel(\"Counts\")\n",
    "plt.title('Distribution of Total Distance per day')\n",
    "plt.show()"
   ]
  },
  {
   "cell_type": "markdown",
   "id": "6d0f8085",
   "metadata": {},
   "source": [
    "Most of the total distance are between 5km to 8km and we can observe a obvious drop after 8km."
   ]
  },
  {
   "cell_type": "markdown",
   "id": "5c738cc0",
   "metadata": {},
   "source": [
    "In daily activity table, there are three kindly of measures in activity level with according time the users spent:\n",
    "* Very Active Minutes\n",
    "* Failly Active Minutes\n",
    "* Lightly Active Minutes\n",
    "A histogram show the distribution of the above data together is plotted as below:"
   ]
  },
  {
   "cell_type": "code",
   "execution_count": 62,
   "id": "378841cc",
   "metadata": {},
   "outputs": [
    {
     "data": {
      "image/png": "[encoded data removed]",
      "text/plain": [
       "<Figure size 1152x720 with 1 Axes>"
      ]
     },
     "metadata": {
      "needs_background": "light"
     },
     "output_type": "display_data"
    }
   ],
   "source": [
    "v = cleaned_dailyActivity_df.VeryActiveMinutes\n",
    "f = cleaned_dailyActivity_df.FairlyActiveMinutes\n",
    "l = cleaned_dailyActivity_df.LightlyActiveMinutes\n",
    "bins = np.linspace(0, 550, 55)\n",
    "colors = ['purple', 'royalblue', 'green']\n",
    "labels = ['Very Active Minutes', 'Fairly Active Minutes', 'Lightly Active Minutes']\n",
    "\n",
    "plt.figure(figsize = (16,10))\n",
    "plt.hist([v,f,l], bins, color = colors, label = labels)\n",
    "\n",
    "plt.xlim(0,550)\n",
    "plt.ylim(0,600)\n",
    "plt.legend(loc = 'upper right')\n",
    "plt.xlabel(\"Minutes\")\n",
    "plt.ylabel(\"Counts\")\n",
    "plt.title('Distribution according to activity type per day')\n",
    "plt.show()"
   ]
  },
  {
   "cell_type": "markdown",
   "id": "11043b8d",
   "metadata": {},
   "source": [
    "As expected, we can observe that **Very Active Minutes** is in a shorter times compare with **Fairly Active Minutes** and **Lightly Active Minutes**. As we know that strenuous activity is more important to affect the calories burnt, we take a closer look on that part of datas."
   ]
  },
  {
   "cell_type": "code",
   "execution_count": 63,
   "id": "c8e82cb0",
   "metadata": {},
   "outputs": [
    {
     "data": {
      "image/png": "[encoded data removed]",
      "text/plain": [
       "<Figure size 720x576 with 1 Axes>"
      ]
     },
     "metadata": {
      "needs_background": "light"
     },
     "output_type": "display_data"
    }
   ],
   "source": [
    "v = cleaned_dailyActivity_df.VeryActiveMinutes\n",
    "bins = np.linspace(0, 220, 44)\n",
    "\n",
    "plt.figure(figsize = (10,8))\n",
    "n, bins, patches = plt.hist(v, bins, rwidth=0.8)\n",
    "\n",
    "color_map('BuPu',2 ,True)\n",
    "\n",
    "plt.xlim(0,220)\n",
    "plt.ylim(0,500)\n",
    "plt.xlabel(\"Minutes\")\n",
    "plt.ylabel(\"Counts\")\n",
    "plt.title('Distribution on Strenuous activity per day')\n",
    "plt.show()"
   ]
  },
  {
   "cell_type": "markdown",
   "id": "5c92f5f9",
   "metadata": {},
   "source": [
    "The above histogram shows the distribution on strenuous activity per day according to the **Very Active Minutes** data. We can observe that most of the users do not perform any strenuous activity."
   ]
  },
  {
   "cell_type": "markdown",
   "id": "124f2642",
   "metadata": {},
   "source": [
    "In opposite, we also look at the distribution of **Sedentary Minutes** per day. Please note that **1440** minutes (24 hours) is the highest value."
   ]
  },
  {
   "cell_type": "code",
   "execution_count": 64,
   "id": "cb576acb",
   "metadata": {
    "scrolled": false
   },
   "outputs": [
    {
     "data": {
      "image/png": "[encoded data removed]",
      "text/plain": [
       "<Figure size 720x576 with 1 Axes>"
      ]
     },
     "metadata": {
      "needs_background": "light"
     },
     "output_type": "display_data"
    }
   ],
   "source": [
    "v = cleaned_dailyActivity_df.SedentaryMinutes\n",
    "bins = np.linspace(0, 1440, 24)\n",
    "thresold = 989.29\n",
    "# Average Sedentary Minutes calculated above\n",
    "\n",
    "plt.figure(figsize = (10,8))\n",
    "n, bins, patches = plt.hist(v, bins, rwidth=0.8)\n",
    "plt.axvline(x=thresold, color='red', ls='--')\n",
    "\n",
    "color_map('PuBu', 2,True)\n",
    "\n",
    "plt.xlim(0,1440)\n",
    "plt.ylim(0,120)\n",
    "plt.xlabel(\"Minutes\")\n",
    "plt.ylabel(\"Counts\")\n",
    "plt.title('Distribution of Sedentary Minutes per day')\n",
    "plt.show()"
   ]
  },
  {
   "cell_type": "markdown",
   "id": "b462c5fc",
   "metadata": {},
   "source": [
    "The data shows that there are two grops range which highest value. We can then plot the distribution of average sedentary minutes according to different users to take a look."
   ]
  },
  {
   "cell_type": "code",
   "execution_count": 65,
   "id": "ac7bbbf0",
   "metadata": {},
   "outputs": [
    {
     "data": {
      "text/html": [
       "<div>\n",
       "<style scoped>\n",
       "    .dataframe tbody tr th:only-of-type {\n",
       "        vertical-align: middle;\n",
       "    }\n",
       "\n",
       "    .dataframe tbody tr th {\n",
       "        vertical-align: top;\n",
       "    }\n",
       "\n",
       "    .dataframe thead th {\n",
       "        text-align: right;\n",
       "    }\n",
       "</style>\n",
       "<table border=\"1\" class=\"dataframe\">\n",
       "  <thead>\n",
       "    <tr style=\"text-align: right;\">\n",
       "      <th></th>\n",
       "      <th>Id</th>\n",
       "      <th>Avg_sedentary_minutes</th>\n",
       "    </tr>\n",
       "  </thead>\n",
       "  <tbody>\n",
       "    <tr>\n",
       "      <th>0</th>\n",
       "      <td>1927972279</td>\n",
       "      <td>1317.42</td>\n",
       "    </tr>\n",
       "    <tr>\n",
       "      <th>1</th>\n",
       "      <td>6775888955</td>\n",
       "      <td>1299.42</td>\n",
       "    </tr>\n",
       "    <tr>\n",
       "      <th>2</th>\n",
       "      <td>8253242879</td>\n",
       "      <td>1278.89</td>\n",
       "    </tr>\n",
       "    <tr>\n",
       "      <th>3</th>\n",
       "      <td>8583815059</td>\n",
       "      <td>1261.47</td>\n",
       "    </tr>\n",
       "    <tr>\n",
       "      <th>4</th>\n",
       "      <td>1624580081</td>\n",
       "      <td>1257.74</td>\n",
       "    </tr>\n",
       "  </tbody>\n",
       "</table>\n",
       "</div>"
      ],
      "text/plain": [
       "           Id  Avg_sedentary_minutes\n",
       "0  1927972279                1317.42\n",
       "1  6775888955                1299.42\n",
       "2  8253242879                1278.89\n",
       "3  8583815059                1261.47\n",
       "4  1624580081                1257.74"
      ]
     },
     "execution_count": 65,
     "metadata": {},
     "output_type": "execute_result"
    }
   ],
   "source": [
    "query = '''\n",
    "    SELECT\n",
    "        DISTINCT Id,\n",
    "        ROUND(AVG(SedentaryMinutes),2) AS Avg_sedentary_minutes\n",
    "    FROM\n",
    "        dailyActivity_Merged\n",
    "    GROUP BY\n",
    "        Id\n",
    "    ORDER BY\n",
    "        Avg_sedentary_minutes DESC;\n",
    "'''\n",
    "\n",
    "avg_sedentary_minutes = pd.read_sql(query, con)\n",
    "avg_sedentary_minutes.head()"
   ]
  },
  {
   "cell_type": "code",
   "execution_count": 66,
   "id": "7105e922",
   "metadata": {},
   "outputs": [
    {
     "data": {
      "image/png": "[encoded data removed]",
      "text/plain": [
       "<Figure size 720x576 with 1 Axes>"
      ]
     },
     "metadata": {
      "needs_background": "light"
     },
     "output_type": "display_data"
    }
   ],
   "source": [
    "x = list(map(str, avg_sedentary_minutes.Id))\n",
    "y = avg_sedentary_minutes.Avg_sedentary_minutes\n",
    "thresold = 989.29\n",
    "# Average sedentary minutes calculated above\n",
    "\n",
    "cmap=cm.get_cmap('plasma')\n",
    "colors=[]\n",
    "for i in x:\n",
    "    colors.append(cmap(x.index(i)/len(x)/1.1))\n",
    "\n",
    "plt.figure(figsize = (10,8))\n",
    "plt.bar(x, y, color=colors)\n",
    "plt.axhline(thresold, color = 'red', ls='--')\n",
    "\n",
    "plt.xticks(rotation = 75)\n",
    "plt.ylabel('Average Sedentary Minutes')\n",
    "plt.title('Averagae Sedentary Minutes according to Id number')\n",
    "plt.show()"
   ]
  },
  {
   "cell_type": "markdown",
   "id": "08f3823d",
   "metadata": {},
   "source": [
    "We can conclude that there are 14 users with the average sedentary minutes obvioursly lower than the average and the other 19 users is higher than the average. The two groups of different data show that there are two groups of users that we can conlude part of then are *active* compare with the other part of them."
   ]
  },
  {
   "cell_type": "markdown",
   "id": "f47f4b4c",
   "metadata": {},
   "source": [
    "## Sleep habits"
   ]
  },
  {
   "cell_type": "markdown",
   "id": "59ce0b1f",
   "metadata": {},
   "source": [
    "Besides daily activity, we also plot distribtuion of total sleep minutes to observe the pattern."
   ]
  },
  {
   "cell_type": "code",
   "execution_count": 67,
   "id": "fcfd4855",
   "metadata": {},
   "outputs": [
    {
     "data": {
      "image/png": "[encoded data removed]",
      "text/plain": [
       "<Figure size 720x576 with 1 Axes>"
      ]
     },
     "metadata": {
      "needs_background": "light"
     },
     "output_type": "display_data"
    }
   ],
   "source": [
    "x = cleaned_sleepday_df.TotalMinutesAsleep\n",
    "bins = np.linspace(0, 800, 40)\n",
    "thresold=420\n",
    "\n",
    "plt.figure(figsize = (10,8))\n",
    "n, bins, patches = plt.hist(x, bins, rwidth=0.8)\n",
    "plt.axvline(x=thresold, color='red', ls='--')\n",
    "\n",
    "color_map('viridis', 1, False)\n",
    "\n",
    "plt.xlim(0,800)\n",
    "plt.ylim(0,45)\n",
    "plt.xlabel(\"Minutes\")\n",
    "plt.ylabel(\"Counts\")\n",
    "plt.title('Distribution of Total Sleep Minutes')\n",
    "plt.show()"
   ]
  },
  {
   "cell_type": "markdown",
   "id": "c1845ae7",
   "metadata": {},
   "source": [
    "According to the __[\"How Much Sleep Do I Need?\"](https://www.cdc.gov/sleep/about_sleep/how_much_sleep.html)__ from CDC recommendation, an adult should get 7 or more hours of sleep per day. Therefore we set the tresold for 420 minutes(7 hours) which repensent as a red dotted line above. We can observe that more than half of the data is higher than the thresold line. We can obtain a exact data below."
   ]
  },
  {
   "cell_type": "code",
   "execution_count": 68,
   "id": "5c92b0e6",
   "metadata": {},
   "outputs": [
    {
     "data": {
      "text/html": [
       "<div>\n",
       "<style scoped>\n",
       "    .dataframe tbody tr th:only-of-type {\n",
       "        vertical-align: middle;\n",
       "    }\n",
       "\n",
       "    .dataframe tbody tr th {\n",
       "        vertical-align: top;\n",
       "    }\n",
       "\n",
       "    .dataframe thead th {\n",
       "        text-align: right;\n",
       "    }\n",
       "</style>\n",
       "<table border=\"1\" class=\"dataframe\">\n",
       "  <thead>\n",
       "    <tr style=\"text-align: right;\">\n",
       "      <th></th>\n",
       "      <th>Total_counts</th>\n",
       "      <th>Enough_sleep</th>\n",
       "      <th>Not_enough_sleep</th>\n",
       "    </tr>\n",
       "  </thead>\n",
       "  <tbody>\n",
       "    <tr>\n",
       "      <th>0</th>\n",
       "      <td>413</td>\n",
       "      <td>231</td>\n",
       "      <td>182</td>\n",
       "    </tr>\n",
       "  </tbody>\n",
       "</table>\n",
       "</div>"
      ],
      "text/plain": [
       "   Total_counts  Enough_sleep  Not_enough_sleep\n",
       "0           413           231               182"
      ]
     },
     "execution_count": 68,
     "metadata": {},
     "output_type": "execute_result"
    }
   ],
   "source": [
    "query ='''\n",
    "    SELECT\n",
    "        COUNT(Id) AS Total_counts,\n",
    "        COUNT(CASE WHEN TotalMinutesAsleep>=420 THEN Id END) AS Enough_sleep,\n",
    "        COUNT(CASE WHEN TotalMinutesAsleep<420 THEN Id END) AS Not_enough_sleep\n",
    "    FROM\n",
    "        sleepDay_Merged;\n",
    "'''\n",
    "\n",
    "df = pd.read_sql(query, con)\n",
    "df"
   ]
  },
  {
   "cell_type": "markdown",
   "id": "15341eb0",
   "metadata": {},
   "source": [
    "From the above data, we can see 231 rows data have more than 7 hours sleeping time with total counts of rows are 413."
   ]
  },
  {
   "cell_type": "markdown",
   "id": "676f6d82",
   "metadata": {},
   "source": [
    "We then also plot the histogram for the 24 different users in the sleep data table as below:"
   ]
  },
  {
   "cell_type": "code",
   "execution_count": 69,
   "id": "27029212",
   "metadata": {
    "scrolled": true
   },
   "outputs": [
    {
     "data": {
      "text/html": [
       "<div>\n",
       "<style scoped>\n",
       "    .dataframe tbody tr th:only-of-type {\n",
       "        vertical-align: middle;\n",
       "    }\n",
       "\n",
       "    .dataframe tbody tr th {\n",
       "        vertical-align: top;\n",
       "    }\n",
       "\n",
       "    .dataframe thead th {\n",
       "        text-align: right;\n",
       "    }\n",
       "</style>\n",
       "<table border=\"1\" class=\"dataframe\">\n",
       "  <thead>\n",
       "    <tr style=\"text-align: right;\">\n",
       "      <th></th>\n",
       "      <th>Id</th>\n",
       "      <th>Avg_total_sleep</th>\n",
       "    </tr>\n",
       "  </thead>\n",
       "  <tbody>\n",
       "    <tr>\n",
       "      <th>0</th>\n",
       "      <td>1844505072</td>\n",
       "      <td>652.00</td>\n",
       "    </tr>\n",
       "    <tr>\n",
       "      <th>1</th>\n",
       "      <td>2026352035</td>\n",
       "      <td>506.18</td>\n",
       "    </tr>\n",
       "    <tr>\n",
       "      <th>2</th>\n",
       "      <td>6117666160</td>\n",
       "      <td>478.78</td>\n",
       "    </tr>\n",
       "    <tr>\n",
       "      <th>3</th>\n",
       "      <td>4319703577</td>\n",
       "      <td>476.65</td>\n",
       "    </tr>\n",
       "    <tr>\n",
       "      <th>4</th>\n",
       "      <td>5553957443</td>\n",
       "      <td>463.48</td>\n",
       "    </tr>\n",
       "  </tbody>\n",
       "</table>\n",
       "</div>"
      ],
      "text/plain": [
       "           Id  Avg_total_sleep\n",
       "0  1844505072           652.00\n",
       "1  2026352035           506.18\n",
       "2  6117666160           478.78\n",
       "3  4319703577           476.65\n",
       "4  5553957443           463.48"
      ]
     },
     "execution_count": 69,
     "metadata": {},
     "output_type": "execute_result"
    }
   ],
   "source": [
    "query = '''\n",
    "    SELECT\n",
    "        DISTINCT Id,\n",
    "        ROUND(AVG(TotalMinutesAsleep),2) AS Avg_total_sleep\n",
    "    FROM\n",
    "        sleepDay_Merged\n",
    "    GROUP BY\n",
    "        Id\n",
    "    ORDER BY\n",
    "        Avg_total_sleep DESC;\n",
    "'''\n",
    "\n",
    "avg_total_sleep = pd.read_sql(query, con)\n",
    "avg_total_sleep.head()"
   ]
  },
  {
   "cell_type": "code",
   "execution_count": 70,
   "id": "15981d14",
   "metadata": {
    "scrolled": false
   },
   "outputs": [
    {
     "data": {
      "image/png": "[encoded data removed]",
      "text/plain": [
       "<Figure size 720x576 with 1 Axes>"
      ]
     },
     "metadata": {
      "needs_background": "light"
     },
     "output_type": "display_data"
    }
   ],
   "source": [
    "x = list(map(str, avg_total_sleep.Id))\n",
    "y = avg_total_sleep.Avg_total_sleep\n",
    "thresold = 420\n",
    "\n",
    "cmap=cm.get_cmap('ocean')\n",
    "colors=[]\n",
    "for i in x:\n",
    "    colors.append(cmap(x.index(i)/len(x)))\n",
    "\n",
    "plt.figure(figsize = (10,8))\n",
    "plt.bar(x, y, color=colors)\n",
    "plt.axhline(thresold, color = 'red', ls='--')\n",
    "\n",
    "plt.xticks(rotation = 75)\n",
    "plt.ylabel('Average Total Sleep(Mins)')\n",
    "plt.title('Averagae Total Sleep Minutes according to Id number')\n",
    "plt.show()"
   ]
  },
  {
   "cell_type": "markdown",
   "id": "c40bdb56",
   "metadata": {},
   "source": [
    "From the above distribution, we can observe that half of the users have enough sleep. However, we also noted that three of the users have very low average total sleep time which indicates that the total sleep time should not be accurately logged by these three users."
   ]
  },
  {
   "cell_type": "markdown",
   "id": "8028b2b7",
   "metadata": {},
   "source": [
    "We also plot a bar chart for the total sleep time according to weekdays."
   ]
  },
  {
   "cell_type": "code",
   "execution_count": 71,
   "id": "22a51891",
   "metadata": {},
   "outputs": [
    {
     "data": {
      "image/png": "[encoded data removed]",
      "text/plain": [
       "<Figure size 720x576 with 1 Axes>"
      ]
     },
     "metadata": {
      "needs_background": "light"
     },
     "output_type": "display_data"
    }
   ],
   "source": [
    "weekday = [\"Sunday\", \"Monday\", \"Tuesday\", \"Wednesday\", \"Thursday\", \"Friday\", \"Saturday\"]\n",
    "y = avg_sleep.Avg_sleep_hours\n",
    "thersold = 420\n",
    "\n",
    "cmap=cm.get_cmap('YlGnBu')\n",
    "colors=[]\n",
    "for i in weekday:\n",
    "    colors.append(cmap(1-((weekday.index(i)/len(weekday))/1.5)))\n",
    "\n",
    "plt.figure(figsize = (10,8))\n",
    "plt.bar(weekday,y, color = colors)\n",
    "plt.axhline(thresold, color = 'red', ls='--')\n",
    "\n",
    "plt.ylabel('Average Sleep Minutes')\n",
    "plt.title('Average sleep time according to weekdays')\n",
    "plt.show()"
   ]
  },
  {
   "cell_type": "markdown",
   "id": "5e0629f0",
   "metadata": {},
   "source": [
    "Obviously most of the users have more rest in Sunday!"
   ]
  },
  {
   "cell_type": "markdown",
   "id": "7546e10f",
   "metadata": {},
   "source": [
    "We are also interested in how long they awaken in bed. We plot the bar chart below. "
   ]
  },
  {
   "cell_type": "code",
   "execution_count": 72,
   "id": "cf468deb",
   "metadata": {},
   "outputs": [
    {
     "data": {
      "image/png": "[encoded data removed]",
      "text/plain": [
       "<Figure size 720x576 with 1 Axes>"
      ]
     },
     "metadata": {
      "needs_background": "light"
     },
     "output_type": "display_data"
    }
   ],
   "source": [
    "weekday = [\"Sunday\", \"Monday\", \"Tuesday\", \"Wednesday\", \"Thursday\", \"Friday\", \"Saturday\"]\n",
    "y = avg_sleep.Avg_time_awaken_in_bed\n",
    "\n",
    "cmap=cm.get_cmap('plasma')\n",
    "colors=[]\n",
    "for i in weekday:\n",
    "    colors.append(cmap(((weekday.index(i)/len(weekday))/2)))\n",
    "\n",
    "plt.figure(figsize = (10,8))\n",
    "plt.bar(weekday,y, color = colors)\n",
    "\n",
    "plt.ylabel('Average awaken Minutes')\n",
    "plt.title('Average time awaken in bed according to weekdays')\n",
    "plt.show()"
   ]
  },
  {
   "cell_type": "markdown",
   "id": "cd66c590",
   "metadata": {},
   "source": [
    "There are over 50 minutes average awaken time in Sunday which is relatively high compare with the other weekdays."
   ]
  },
  {
   "cell_type": "markdown",
   "id": "b158aac7",
   "metadata": {},
   "source": [
    "# Share"
   ]
  },
  {
   "cell_type": "markdown",
   "id": "b812ba91",
   "metadata": {},
   "source": [
    "We now have our analysis and found out some interesting pattern above. We can try to share our findings from the data as below. "
   ]
  },
  {
   "cell_type": "markdown",
   "id": "1fa39763",
   "metadata": {},
   "source": [
    "Here are our findings and all the plot are produced from the above analysis process."
   ]
  },
  {
   "cell_type": "markdown",
   "id": "eafb0e1d",
   "metadata": {},
   "source": [
    "1. There is linear relationship between caloris burnt and total steps per day."
   ]
  },
  {
   "attachments": {
    "Unknown.png": {
     "image/png": "[encoded data removed]"
    }
   },
   "cell_type": "markdown",
   "id": "225afa97",
   "metadata": {},
   "source": [
    "![Unknown.png](attachment:Unknown.png)"
   ]
  },
  {
   "cell_type": "markdown",
   "id": "f7d0e4f4",
   "metadata": {},
   "source": [
    "2. Both of the total steps per users are the 4000-12000. In fact, higher than 8000 steps is a better recommendation according to CDC."
   ]
  },
  {
   "attachments": {
    "Unknown1.png": {
     "image/png": "[encoded data removed]"
    }
   },
   "cell_type": "markdown",
   "id": "85420ce7",
   "metadata": {},
   "source": [
    "![Unknown1.png](attachment:Unknown1.png)"
   ]
  },
  {
   "cell_type": "markdown",
   "id": "8ae58967",
   "metadata": {},
   "source": [
    "3. Sedentary minutes per day is quite long. Motivation for more exercies is recommended."
   ]
  },
  {
   "attachments": {
    "Unknown2.png": {
     "image/png": "[encoded data removed]"
    }
   },
   "cell_type": "markdown",
   "id": "ea7a1fa8",
   "metadata": {},
   "source": [
    "![Unknown2.png](attachment:Unknown2.png)"
   ]
  },
  {
   "cell_type": "markdown",
   "id": "39523dd5",
   "metadata": {},
   "source": [
    "4. There are more then half of the users have a sedentary minutes higher than average."
   ]
  },
  {
   "attachments": {
    "Unknown3.png": {
     "image/png": "[encoded data removed]"
    }
   },
   "cell_type": "markdown",
   "id": "9e1e3d28",
   "metadata": {},
   "source": [
    "![Unknown3.png](attachment:Unknown3.png)"
   ]
  },
  {
   "cell_type": "markdown",
   "id": "b1c16bb1",
   "metadata": {},
   "source": [
    "5. Most of the sleep hours is around 440 minutes per day which is higher than the 420 minutes (7 hours) as recommended."
   ]
  },
  {
   "attachments": {
    "Unknown%204.png": {
     "image/png": "[encoded data removed]"
    }
   },
   "cell_type": "markdown",
   "id": "884dd3c5",
   "metadata": {},
   "source": [
    "![Unknown%204.png](attachment:Unknown%204.png)"
   ]
  },
  {
   "cell_type": "markdown",
   "id": "9b800421",
   "metadata": {},
   "source": [
    "6. Distruibution of users averady data shows that only half of the users have sleep more than 7 hours."
   ]
  },
  {
   "attachments": {
    "Unknown5.png": {
     "image/png": "[encoded data removed]"
    }
   },
   "cell_type": "markdown",
   "id": "7c1a105c",
   "metadata": {},
   "source": [
    "![Unknown5.png](attachment:Unknown5.png)"
   ]
  },
  {
   "cell_type": "markdown",
   "id": "6fc740c4",
   "metadata": {},
   "source": [
    "# Act"
   ]
  },
  {
   "cell_type": "markdown",
   "id": "7825ee44",
   "metadata": {},
   "source": [
    "With the above analysis, we suggested that the data analysis with the Fitbit data only with 33 users in daily activity and 24 users in sleep seems not enough. Also, the above data do not include and sex information and age information. **Bellabeat** products are focus on women so it is not sure that the above data shall be consistent to company's situation. Collecting the data from existing users of **Bellabeat** products in a larger sample size is recommended to get a better result.\n",
    "\n",
    "However, we could still observe the above data to provide some useful informaiton and interesting findings. Based on the above findings, we have the follwoing marketing strategy suggestion:\n",
    "1. **Bellabeat** could provide discount or membership extend for those customers that achieve a certain goal every day, like a recommendation of 8000 steps and 7 hours sleep per day. That's can both motivate our customers to maintain good health lifestyle and also focus on th use of **Bellabeat** apps and other coming new products.\n",
    "2. **Bellabeat** could also connects their apps to some other brand of smart wellness products to enlarge the number of users. Lifestyle recommendation could provide to the other brand's users and analysis for their daily activity also. That can increase the usage of the apps, get a better sample of data for the market and furture analysis of market strategy on new products.\n",
    "3. **Bellabeat** could develop a new team to contact with customers with membership that have unhealthy lifestyle  to communicate with them if they have certain problems during the use of products and encourage them to have a better lifestyle with health recommendation.\n",
    "\n",
    "Besides, we have the following recommendations in exisitng **Bellabeat** products:\n",
    "1. From above data, we can conclued that there is a linear relatioship between calories burned and daily activity (Total Steps and Total Distance). Our existing products the Bellabeat app, Leaf and Time can help to lock the data. However, set up recommendations for total steps per day in different levels to encourage adults to take more steps could be useful.\n",
    "2. The sedentary minutes are too hight for most of the users. Suggestion and recommendation for users to move and walk around every hours if the systems sense that the user don't move for a long period of time could be included in the apps.\n",
    "3. Regarding to sleep habits, give a clear recommendations of sleep for over than 7 hours every day can be added in to the apps. Our product can also developed to lock more details in sleep and stress level combined with heart rate to provide more healthful information to the users.\n",
    "4. No data and details for analysis hydration level. We recommend to collect our own data from **Bellabeat** Spring product to have a insight for that."
   ]
  },
  {
   "cell_type": "markdown",
   "id": "8334e309",
   "metadata": {},
   "source": [
    "## Thank you for reading my project!"
   ]
  }
 ],
 "metadata": {
  "kernelspec": {
   "display_name": "Python 3 (ipykernel)",
   "language": "python",
   "name": "python3"
  },
  "language_info": {
   "codemirror_mode": {
    "name": "ipython",
    "version": 3
   },
   "file_extension": ".py",
   "mimetype": "text/x-python",
   "name": "python",
   "nbconvert_exporter": "python",
   "pygments_lexer": "ipython3",
   "version": "3.9.12"
  }
 },
 "nbformat": 4,
 "nbformat_minor": 5
}
